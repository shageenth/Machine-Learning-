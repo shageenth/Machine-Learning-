{
 "cells": [
  {
   "cell_type": "code",
   "execution_count": 101,
   "metadata": {},
   "outputs": [],
   "source": [
    "# Read Fashion MNIST dataset\n",
    "\n",
    "import util_mnist_reader \n",
    "import numpy as np\n",
    "import scipy\n",
    "from copy import copy, deepcopy\n",
    "\n",
    "\n",
    "X_train, y_train = util_mnist_reader.load_mnist('.', kind='train')\n",
    "\n",
    "X_test, y_test = util_mnist_reader.load_mnist('.', kind='t10k')\n",
    "#This is to load the dataset provided\n",
    "X_train = np.transpose(X_train)\n",
    "\n",
    "X_test = np.transpose(X_test)\n",
    "#We take the transpose to get it into the shape 10 by 6,0000 so we have have each sample as its own column instead of its own row.\n",
    "Y = []\n",
    "\n",
    "\n",
    "for y in y_train:\n",
    "    x = np.zeros(10)\n",
    "    x[y] = 1\n",
    "    Y.append(x)\n",
    "Y = np.transpose(np.array(Y))\n",
    "\n",
    "Y_test = []\n",
    "for y in y_test:\n",
    "    x = np.zeros(10)\n",
    "    x[y] = 1\n",
    "    Y_test.append(x)\n",
    "Y_test = np.transpose(np.array(Y_test))\n",
    "#This is to give one-hot encoding to the y_train data in order to get a full Y matrix of size 10 by 60000\n",
    "    \n"
   ]
  },
  {
   "cell_type": "code",
   "execution_count": 13,
   "metadata": {},
   "outputs": [
    {
     "data": {
      "text/plain": [
       "array([0., 0., 0., 0., 0., 0., 0., 0., 0., 0.])"
      ]
     },
     "execution_count": 13,
     "metadata": {},
     "output_type": "execute_result"
    }
   ],
   "source": []
  },
  {
   "cell_type": "code",
   "execution_count": 102,
   "metadata": {},
   "outputs": [],
   "source": [
    "\n",
    "\n",
    "def sigmoid(z):\n",
    "  return 1/(1 + np.exp(-z))"
   ]
  },
  {
   "cell_type": "code",
   "execution_count": 75,
   "metadata": {},
   "outputs": [],
   "source": []
  },
  {
   "cell_type": "code",
   "execution_count": 103,
   "metadata": {},
   "outputs": [],
   "source": [
    "np.random.seed(2)\n",
    "# No. of training examples\n",
    "m = X_train.shape[1]\n",
    "# Set the hyperparameters\n",
    "n_x = 784     #No. of neurons in first layer\n",
    "n_h = 300  #No. of neurons in hidden layer\n",
    "n_y = 10   #No. of neurons in output layer\n",
    "num_of_iters = 1000\n",
    "learning_rate = 0.001"
   ]
  },
  {
   "cell_type": "code",
   "execution_count": 104,
   "metadata": {},
   "outputs": [],
   "source": [
    "#Intialize original parameters\n",
    "W1 = np.random.randn(n_h, n_x)\n",
    "b1 = np.zeros((n_h, 1))\n",
    "W2 = np.random.randn(n_y, n_h)\n",
    "b2 = np.zeros((n_y, 1))\n",
    "\n"
   ]
  },
  {
   "cell_type": "code",
   "execution_count": 105,
   "metadata": {},
   "outputs": [],
   "source": [
    "def train_model(W1,b1,W2,b2,X_train,Y,learning_rate):\n",
    "    costs = []\n",
    "    for i in range(0, num_of_iters+1):\n",
    "        Z1 = np.dot(W1, X_train) + b1\n",
    "        A1 = sigmoid(Z1)\n",
    "        Z2 = np.dot(W2, A1) + b2\n",
    "        A2 = sigmoid(Z2)\n",
    "        dZ2 = A2 - Y\n",
    "        dW2 = np.dot(dZ2, A1.T)/m\n",
    "        db2 = np.sum(dZ2, axis=1, keepdims=True)/m\n",
    "        dZ1 = np.multiply(np.dot(W2.T, dZ2), 1-np.power(A1, 2))\n",
    "        dW1 = np.dot(dZ1, X_train.T)/m\n",
    "        db1 = np.sum(dZ1, axis=1, keepdims=True)/m\n",
    "        W1 = W1 - learning_rate*dW1\n",
    "        b1 = b1 - learning_rate*db1\n",
    "        W2 = W2 - learning_rate*dW2\n",
    "        b2 = b2 - learning_rate*db2\n",
    "        cost = -np.sum(np.multiply(Y, np.log(A2)) +  np.multiply(1-Y, np.log(1-A2)))/m\n",
    "        cost = np.squeeze(cost)\n",
    "        if(i%100 == 0):\n",
    "            costs.append(cost)\n",
    "            print('Cost after iteration# {:d}: {:f}'.format(i, cost))\n",
    "    return W1,b1,W2,b2,cost\n",
    "\n",
    "\n"
   ]
  },
  {
   "cell_type": "code",
   "execution_count": 106,
   "metadata": {},
   "outputs": [
    {
     "name": "stderr",
     "output_type": "stream",
     "text": [
      "/home/shageenth/.local/lib/python3.6/site-packages/ipykernel_launcher.py:4: RuntimeWarning: overflow encountered in exp\n",
      "  after removing the cwd from sys.path.\n"
     ]
    },
    {
     "name": "stdout",
     "output_type": "stream",
     "text": [
      "Cost after iteration# 0: 16.332988\n",
      "Cost after iteration# 100: 1.728890\n",
      "Cost after iteration# 200: 1.514033\n",
      "Cost after iteration# 300: 1.405384\n",
      "Cost after iteration# 400: 1.351290\n",
      "Cost after iteration# 500: 1.298481\n",
      "Cost after iteration# 600: 1.274038\n",
      "Cost after iteration# 700: 1.265459\n",
      "Cost after iteration# 800: 1.306685\n",
      "Cost after iteration# 900: 1.243077\n",
      "Cost after iteration# 1000: 1.193695\n"
     ]
    }
   ],
   "source": [
    "W1,b1,W2,b2,cost = train_model(W1,b1,W2,b2,X_train,Y,learning_rate)\n",
    "#OK, Model is now trained! let's use trained model to make accurate predictions"
   ]
  },
  {
   "cell_type": "code",
   "execution_count": 107,
   "metadata": {},
   "outputs": [],
   "source": [
    "def predict_model(W1,b1,W2,b2,X_test):\n",
    "    Z1 = np.dot(W1, X_test) + b1\n",
    "    A1 = sigmoid(Z1)\n",
    "    Z2 = np.dot(W2, A1) + b2\n",
    "    A2 = sigmoid(Z2)\n",
    "    return np.round(A2)\n",
    "    "
   ]
  },
  {
   "cell_type": "code",
   "execution_count": 111,
   "metadata": {},
   "outputs": [
    {
     "name": "stdout",
     "output_type": "stream",
     "text": [
      "[[0. 0. 0. ... 0. 0. 0.]\n",
      " [0. 0. 1. ... 0. 1. 0.]\n",
      " [0. 1. 0. ... 0. 0. 0.]\n",
      " ...\n",
      " [0. 0. 0. ... 0. 0. 0.]\n",
      " [0. 0. 0. ... 1. 0. 0.]\n",
      " [1. 0. 0. ... 0. 0. 0.]]\n"
     ]
    },
    {
     "name": "stderr",
     "output_type": "stream",
     "text": [
      "/home/shageenth/.local/lib/python3.6/site-packages/ipykernel_launcher.py:4: RuntimeWarning: overflow encountered in exp\n",
      "  after removing the cwd from sys.path.\n"
     ]
    },
    {
     "data": {
      "text/plain": [
       "10000"
      ]
     },
     "execution_count": 111,
     "metadata": {},
     "output_type": "execute_result"
    }
   ],
   "source": [
    "y_predict = predict_model(W1,b1,W2,b2,X_test)\n",
    "print(y_predict)\n",
    "len(Y_test[0])"
   ]
  },
  {
   "cell_type": "code",
   "execution_count": 112,
   "metadata": {},
   "outputs": [
    {
     "name": "stdout",
     "output_type": "stream",
     "text": [
      "69.43\n"
     ]
    }
   ],
   "source": [
    "accuracy = np.sum(np.multiply(y_predict,Y_test))/len(Y_test[0])*100\n",
    "print(accuracy)"
   ]
  },
  {
   "cell_type": "code",
   "execution_count": 115,
   "metadata": {},
   "outputs": [
    {
     "data": {
      "text/plain": [
       "Text(0.5,1,'Cost as a Function of Iterations')"
      ]
     },
     "execution_count": 115,
     "metadata": {},
     "output_type": "execute_result"
    },
    {
     "data": {
      "image/png": "[encoded data removed]",
      "text/plain": [
       "<matplotlib.figure.Figure at 0x7f3ed0d56cc0>"
      ]
     },
     "metadata": {
      "needs_background": "light"
     },
     "output_type": "display_data"
    }
   ],
   "source": [
    "import matplotlib.pyplot as plt\n",
    "\n",
    "plt.plot(list(range(0,1100,100)),costs)\n",
    "plt.xlabel('Number of Iterations')\n",
    "plt.ylabel('Cost')\n",
    "plt.title('Cost as a Function of Iterations')"
   ]
  },
  {
   "cell_type": "code",
   "execution_count": 71,
   "metadata": {},
   "outputs": [
    {
     "name": "stdout",
     "output_type": "stream",
     "text": [
      "range(1, 30)\n"
     ]
    }
   ],
   "source": []
  },
  {
   "cell_type": "code",
   "execution_count": 14,
   "metadata": {},
   "outputs": [],
   "source": []
  },
  {
   "cell_type": "code",
   "execution_count": null,
   "metadata": {},
   "outputs": [],
   "source": []
  }
 ],
 "metadata": {
  "kernelspec": {
   "display_name": "Python 3",
   "language": "python",
   "name": "python3"
  }
 },
 "nbformat": 4,
 "nbformat_minor": 2
}
