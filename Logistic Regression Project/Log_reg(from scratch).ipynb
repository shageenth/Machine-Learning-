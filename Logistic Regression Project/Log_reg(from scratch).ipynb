{
 "cells": [
  {
   "cell_type": "markdown",
   "metadata": {},
   "source": [
    "# Welcome to Jupyter!"
   ]
  },
  {
   "cell_type": "code",
   "execution_count": 1,
   "metadata": {},
   "outputs": [],
   "source": [
    "import pandas\n",
    "import numpy as np\n",
    "import matplotlib.pyplot as plt\n",
    "import random\n",
    "import copy\n",
    "\n",
    "#CODE EXPLAINED IN REPORT!!!"
   ]
  },
  {
   "cell_type": "code",
   "execution_count": 6,
   "metadata": {},
   "outputs": [],
   "source": [
    "x = list(range(32))\n",
    "#The pandas library automatically parses the dataset, from a csv file, is uses the vector x as a naming convention. I chose a numbering of the columns from 0-31, so the dataframe can essentially be taught like a matrix.\n",
    "df = pandas.read_csv('wdbc.dataset', names = x)\n",
    "#In order to parse the dataset efficiently, we convert the dataset into a pandas data-frame.\n",
    "transform = {\"M\": 1, \"B\": 0}\n",
    "#I parse the dataset to code “M” as a 1 and “B” as a 0.\n",
    "Y = np.array([transform[i] for i in df[1]])\n",
    "#I stored all the labels into a vector called Y by using list comprehension\n",
    "X = np.array([np.array((df[i]-min(df[i]))/(max(df[i])-min(df[i]))) for i in range(2,32)])\n",
    "#Here I took each column df[i] subtracted the minimum then divided by the range. Then I used the list comprehension to store all of the columns into a single array."
   ]
  },
  {
   "cell_type": "code",
   "execution_count": 7,
   "metadata": {},
   "outputs": [],
   "source": [
    "indexing = np.array(range(len(X[0])))\n",
    "np.random.shuffle(indexing)\n",
    "X = X[:,indexing]\n",
    "Y = Y[indexing]\n",
    "#Here I shuffled the indexes of an array\n",
    "#Then used numpy indexing, to index the numpy array in order to give X and Y this new random ordering. The reason indexing was used, so the same shuffling can be applied to both X and Y."
   ]
  },
  {
   "cell_type": "code",
   "execution_count": 8,
   "metadata": {},
   "outputs": [],
   "source": [
    "a = int((len(X[0])*0.8))\n",
    "b = int((len(X[0])*0.1))\n",
    "X_train = X[:,:a]\n",
    "X_val = X[:,a:a+b]\n",
    "X_test = X[:,a+b:]\n",
    "Y_train = Y[:a]\n",
    "Y_val = Y[a:a+b]\n",
    "Y_test = Y[a+b:]\n",
    "#This is was used to code that 80% was testing, while 10% was for validation and the rest (which is 10%) is used for testing."
   ]
  },
  {
   "cell_type": "code",
   "execution_count": 9,
   "metadata": {},
   "outputs": [],
   "source": [
    "epochs = 1000\n",
    "m = X_train.shape[1]\n",
    "#Epochs is the number of iterations we are going to run our gradient descent algorithm to figure out our weights for the logistic regression algorithm"
   ]
  },
  {
   "cell_type": "code",
   "execution_count": 10,
   "metadata": {},
   "outputs": [],
   "source": [
    "def sigmoid(z):\n",
    "\tif z > 0:\n",
    "\t\treturn np.reciprocal(1 + np.exp(-z))\n",
    "\treturn 1-np.reciprocal(1 + np.exp(z))\n",
    "#This is the sigmoid function. If our value is positive we follow the strict definition. If our value is negative we must rewrite the sigmoid function to avoid evaluating big posisitive exponents. For example if x is -10000, our algorithm needs to compute e^10000 which is astronomically large. So how do we rewrite the sigmoid function? Using a bit algebra we get this 1/(1+e^-x) = e^x/(1+e^x) = 1-1/(1+e^x)."
   ]
  },
  {
   "cell_type": "code",
   "execution_count": 11,
   "metadata": {},
   "outputs": [],
   "source": [
    "w = np.random.randn(X_train.shape[0], 1)*0.01\n",
    "win = copy.deepcopy(w)\n",
    "b = 0 \n",
    "maxtup = (0,0)\n",
    "np.seterr(divide = 'ignore')\n",
    "alpha = list(range(-5,5))\n",
    "alpha = [10**(i) for i in alpha]\n",
    "#Here we randomize our initial weight vector. We use the guassian normal function to our weights. The shape of our weight function is given by the first component of X_train.\n",
    "#This is the range of learning rates that we are trying to apply. It ranges from 10^-5 to 10^5. We look through alpha and try different learning rates to see which one gives the best F-score."
   ]
  },
  {
   "cell_type": "code",
   "execution_count": 12,
   "metadata": {},
   "outputs": [
    {
     "name": "stderr",
     "output_type": "stream",
     "text": [
      "/srv/conda/lib/python3.6/site-packages/ipykernel_launcher.py:5: RuntimeWarning: invalid value encountered in multiply\n",
      "  \"\"\"\n"
     ]
    }
   ],
   "source": [
    "for learningrate in alpha:\n",
    "\tfor epoch in range(epochs):\n",
    "\t\tz = np.dot(w.T, X_train) + b\n",
    "\t\tp = np.array([sigmoid(i) for i in z[0]])\n",
    "\t\tcost = -np.sum(np.multiply(np.log(p), Y_train) + np.multiply((1 - Y_train), np.log(1 - p)))/m \n",
    "\t\tdz = p-Y_train\n",
    "\t\tdw = (1 / m) * np.dot(X_train, dz.T)\n",
    "\t\tdb = (1 / m) * np.sum(dz)\n",
    "\t\tw = w - learningrate * dw\n",
    "\t\tb = b - learningrate * db\n",
    "\n",
    "\tz = np.dot(w.T, X_val) + b\n",
    "\tY_testval = np.round(np.array([sigmoid(i) for i in z[0]]))\n",
    "\tTP = np.dot(Y_testval,Y_val.T)\n",
    "\tTN = np.count_nonzero((Y_testval+Y_val)==0)\n",
    "\tFP = np.count_nonzero((2*Y_testval+Y_val)==2)\n",
    "\tFN = np.count_nonzero((Y_testval+2*Y_val)==2)\n",
    "\tPrecision = TP/(TP+FP)\n",
    "\tRecall = TP/(TP+FN)\n",
    "\tF1 = 2/(1/Recall+1/Precision)\n",
    "\tif F1> maxtup[0]:\n",
    "\t\tmaxtup = (F1,learningrate)\n",
    "#This code was borough from the medium article in Sri hari’s notes. We loop through each learning rate. We loop through it by the number of epochs to run it epoch times. Z calculated the dot product of the weight and the X_train.\n",
    "#This code is throughly in report, involves lots of detail!"
   ]
  },
  {
   "cell_type": "code",
   "execution_count": 13,
   "metadata": {},
   "outputs": [],
   "source": [
    "learningrate = maxtup[1]\n",
    "w = win\n",
    "b = 0 \n",
    "acctrack = []\n",
    "\n",
    "#reinitializing everything!\n",
    "\n"
   ]
  },
  {
   "cell_type": "code",
   "execution_count": 14,
   "metadata": {},
   "outputs": [],
   "source": [
    "\n",
    "for epoch in range(epochs):\n",
    "\t\tz = np.dot(w.T, X_train) + b\n",
    "\t\tp = np.array([sigmoid(i) for i in z[0]])\n",
    "\t\tcost = -np.sum(np.multiply(np.log(p), Y_train) + np.multiply((1 - Y_train), np.log(1 - p)))/m \n",
    "\t\tdz = p-Y_train\n",
    "\t\tdw = (1 / m) * np.dot(X_train, dz.T)\n",
    "\t\tdb = (1 / m) * np.sum(dz)\n",
    "\t\tw = w - learningrate * dw\n",
    "\t\tb = b - learningrate * db\n",
    "\t\tTP_test = np.dot(np.round(p),Y_train.T)\n",
    "\t\tTN_test = np.count_nonzero((np.round(p)+Y_train)==0)\n",
    "\t\tacctrack.append((TP_test+TN_test)/(len(Y_train)))"
   ]
  },
  {
   "cell_type": "code",
   "execution_count": 15,
   "metadata": {},
   "outputs": [
    {
     "data": {
      "image/png": "[encoded data removed]",
      "text/plain": [
       "<Figure size 432x288 with 1 Axes>"
      ]
     },
     "metadata": {
      "needs_background": "light"
     },
     "output_type": "display_data"
    }
   ],
   "source": [
    "plt.plot(list(range(epochs)),acctrack)\n",
    "\n",
    "plt.show()"
   ]
  },
  {
   "cell_type": "code",
   "execution_count": 16,
   "metadata": {},
   "outputs": [
    {
     "name": "stdout",
     "output_type": "stream",
     "text": [
      "87.93103448275862% accuracy\n",
      "90.0% precision\n",
      "78.26086956521739% recall\n"
     ]
    }
   ],
   "source": [
    "z = np.dot(w.T, X_test) + b\n",
    "Y_testval = np.round(np.array([sigmoid(i) for i in z[0]]))\n",
    "TP = np.dot(Y_testval,Y_test.T)\n",
    "TN = np.count_nonzero((Y_testval+Y_test)==0)\n",
    "FP = np.count_nonzero((2*Y_testval+Y_test)==2)\n",
    "FN = np.count_nonzero((Y_testval+2*Y_test)==2)\n",
    "Precision = TP/(TP+FP)\n",
    "Recall = TP/(TP+FN)\n",
    "F1 = 2/(1/Recall+1/Precision)\n",
    "print(str((TP+TN)/(len(Y_test))*100)+\"% accuracy\")\n",
    "print(str(Precision*100)+\"% precision\")\n",
    "print(str(Recall*100)+\"% recall\")\n",
    "\n",
    "#Running on test set!!"
   ]
  },
  {
   "cell_type": "markdown",
   "metadata": {},
   "source": [
    "This repo contains an introduction to [Jupyter](https://jupyter.org) and [IPython](https://ipython.org).\n",
    "\n",
    "Outline of some basics:\n",
    "\n",
    "* [Notebook Basics](../examples/Notebook/Notebook%20Basics.ipynb)\n",
    "* [IPython - beyond plain python](../examples/IPython%20Kernel/Beyond%20Plain%20Python.ipynb)\n",
    "* [Markdown Cells](../examples/Notebook/Working%20With%20Markdown%20Cells.ipynb)\n",
    "* [Rich Display System](../examples/IPython%20Kernel/Rich%20Output.ipynb)\n",
    "* [Custom Display logic](../examples/IPython%20Kernel/Custom%20Display%20Logic.ipynb)\n",
    "* [Running a Secure Public Notebook Server](../examples/Notebook/Running%20the%20Notebook%20Server.ipynb#Securing-the-notebook-server)\n",
    "* [How Jupyter works](../examples/Notebook/Multiple%20Languages%2C%20Frontends.ipynb) to run code in different languages."
   ]
  },
  {
   "cell_type": "markdown",
   "metadata": {},
   "source": [
    "You can also get this tutorial and run it on your laptop:\n",
    "\n",
    "    git clone https://github.com/ipython/ipython-in-depth\n",
    "\n",
    "Install IPython and Jupyter:\n",
    "\n",
    "with [conda](https://www.anaconda.com/download):\n",
    "\n",
    "    conda install ipython jupyter\n",
    "\n",
    "with pip:\n",
    "\n",
    "    # first, always upgrade pip!\n",
    "    pip install --upgrade pip\n",
    "    pip install --upgrade ipython jupyter\n",
    "\n",
    "Start the notebook in the tutorial directory:\n",
    "\n",
    "    cd ipython-in-depth\n",
    "    jupyter notebook"
   ]
  }
 ],
 "metadata": {
  "kernelspec": {
   "display_name": "Python 3",
   "language": "python",
   "name": "python3"
  },
  "language_info": {
   "codemirror_mode": {
    "name": "ipython",
    "version": 3
   },
   "file_extension": ".py",
   "mimetype": "text/x-python",
   "name": "python",
   "nbconvert_exporter": "python",
   "pygments_lexer": "ipython3",
   "version": "3.7.3"
  }
 },
 "nbformat": 4,
 "nbformat_minor": 2
}
