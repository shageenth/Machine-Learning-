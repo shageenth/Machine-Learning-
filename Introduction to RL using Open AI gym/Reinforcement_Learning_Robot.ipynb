{
 "cells": [
  {
   "cell_type": "markdown",
   "metadata": {
    "colab_type": "text",
    "id": "F1sa_QJ55-fu"
   },
   "source": [
    "# **Project 4 - Q Learning**\n",
    "\n",
    
    "[Collections](https://docs.python.org/2/library/collections.html) - This module implements specialized container datatypes providing alternatives to Python’s general purpose built-in containers, dict, list, set, and tuple.\n"
   ]
  },
  {
   "cell_type": "code",
   "execution_count": 1,
   "metadata": {
    "colab": {},
    "colab_type": "code",
    "id": "M_PLd07ie8k1"
   },
   "outputs": [],
   "source": [
    "import numpy as np\n",
    "import matplotlib.pyplot as plt\n",
    "import gym\n",
    "import gym.spaces\n",
    "import time\n",
    "import copy\n",
    "import threading\n",
    "import time\n",
    "import collections"
   ]
  },
  {
   "cell_type": "markdown",
   "metadata": {
    "colab_type": "text",
    "id": "6AsLthEre8kw"
   },
   "source": [
   ]
  },
  {
   "cell_type": "code",
   "execution_count": 2,
   "metadata": {
    "colab": {},
    "colab_type": "code",
    "id": "1KZhxOunpbNp"
   },
   "outputs": [],
   "source": [
    "class GridEnvironment(gym.Env):\n",
    "    metadata = { 'render.modes': ['human'] }\n",
    "    \n",
    "    def __init__(self, normalize=False, size=4):\n",
    "        self.observation_space = gym.spaces.Box(0, size, (size,))\n",
    "        self.action_space = gym.spaces.Discrete(4)\n",
    "        self.max_timesteps = size*2 + 1\n",
    "        self.normalize = normalize\n",
    "        self.size = size\n",
    "\n",
    "        # Generate State Transition Table\n",
    "        self.transition_matrix = []\n",
    "        for x in range(size + 1):\n",
    "            state_x = []\n",
    "            for y in range(size + 1):\n",
    "                state_y = []\n",
    "                for a in range(4):\n",
    "                    one_hot = np.zeros(4)\n",
    "                    one_hot[a] = 1\n",
    "                    state_y.append(one_hot)\n",
    "                state_x.append(state_y)\n",
    "            self.transition_matrix.append(state_x)\n",
    "        \n",
    "    def transition_func(self, x, y, action, return_probs=False):\n",
    "        probs = self.transition_matrix[x][y][action]\n",
    "        if return_probs:\n",
    "            return probs\n",
    "        else:\n",
    "            return np.random.choice(len(probs), p=probs)\n",
    "\n",
    "    def _get_distance(self, x, y):\n",
    "        return abs(x[0] - y[0]) + abs(x[1] - y[1])\n",
    "        \n",
    "    def reset(self):\n",
    "        self.timestep = 0\n",
    "        self.agent_pos = [0, 0]\n",
    "        self.goal_pos = [self.size, self.size]\n",
    "        self.state = np.zeros((self.size + 1, self.size + 1))\n",
    "        self.state[tuple(self.agent_pos)] = 1\n",
    "        self.state[tuple(self.goal_pos)] = 0.5\n",
    "        self.prev_distance = self._get_distance(self.agent_pos, self.goal_pos)\n",
    "        return np.array(self.agent_pos)/1.\n",
    "    \n",
    "    def step(self, action):\n",
    "        action_taken = self.transition_func(self.agent_pos[0], self.agent_pos[1], action)\n",
    "        self.state = np.random.choice(self.observation_space.shape[0])\n",
    "        if action_taken == 0:\n",
    "            self.agent_pos[0] += 1\n",
    "        if action_taken == 1:\n",
    "            self.agent_pos[0] -= 1\n",
    "        if action_taken == 2:\n",
    "            self.agent_pos[1] += 1\n",
    "        if action_taken == 3:\n",
    "            self.agent_pos[1] -= 1\n",
    "          \n",
    "        self.agent_pos = np.clip(self.agent_pos, 0, self.size)\n",
    "        self.state = np.zeros((self.size + 1, self.size + 1))\n",
    "        self.state[tuple(self.agent_pos)] = 1\n",
    "        self.state[tuple(self.goal_pos)] = 0.5\n",
    "        \n",
    "        current_distance = self._get_distance(self.agent_pos, self.goal_pos)\n",
    "        if current_distance < self.prev_distance:\n",
    "            reward = 1\n",
    "        elif current_distance > self.prev_distance:\n",
    "            reward = -1\n",
    "        else:\n",
    "            reward = -1\n",
    "        self.prev_distance = current_distance\n",
    "        \n",
    "        self.timestep += 1\n",
    "        if self.timestep >= self.max_timesteps or current_distance == 0:\n",
    "            done = True\n",
    "        else:\n",
    "            done = False\n",
    "        info = {}\n",
    "        \n",
    "        obs = self.agent_pos\n",
    "        if self.normalize:\n",
    "            obs = obs/self.size\n",
    "        return obs, reward, done, info\n",
    "        \n",
    "    def render(self, mode='human'):\n",
    "        plt.imshow(self.state)"
   ]
  },
  {
   "cell_type": "code",
   "execution_count": 3,
   "metadata": {
    "colab": {},
    "colab_type": "code",
    "id": "hy2YHvlNe8lW"
   },
   "outputs": [
    {
     "data": {
      "image/png": "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\n",
      "text/plain": [
       "<matplotlib.figure.Figure at 0x7fa10d1cc860>"
      ]
     },
     "metadata": {
      "needs_background": "light"
     },
     "output_type": "display_data"
    }
   ],
   "source": [
    "env = GridEnvironment()\n",
    "obs = env.reset()\n",
    "env.render()"
   ]
  },
  {
   "cell_type": "markdown",
   "metadata": {
    "colab_type": "text",
    "id": "Bc3VOQuJF1el"
   },
   "source": [
    "## Random Agent\n",
    "This runs the environment with a random agent that just takes random actions. Neither does he learn, nor remember anything. Try to run it!"
   ]
  },
  {
   "cell_type": "code",
   "execution_count": 4,
   "metadata": {
    "colab": {},
    "colab_type": "code",
    "id": "z9XqqwQtFr8k"
   },
   "outputs": [],
   "source": [
    "class RandomAgent:\n",
    "    def __init__(self, env):\n",
    "        self.env = env\n",
    "        self.observation_space = env.observation_space\n",
    "        self.action_space = env.action_space\n",
    "\n",
    "    def policy(self, observation):\n",
    "        return self.action_space.sample()\n",
    "        \n",
    "    def step(self, observation, verbose=False):\n",
    "        return self.policy(observation)"
   ]
  },
  {
   "cell_type": "code",
   "execution_count": 5,
   "metadata": {
    "colab": {},
    "colab_type": "code",
    "id": "0S5tBBqfF-s3"
   },
   "outputs": [
    {
     "data": {
      "image/png": "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\n",
      "text/plain": [
       "<matplotlib.figure.Figure at 0x7fa10d1cc7f0>"
      ]
     },
     "metadata": {
      "needs_background": "light"
     },
     "output_type": "display_data"
    },
    {
     "data": {
      "image/png": "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\n",
      "text/plain": [
       "<matplotlib.figure.Figure at 0x7fa10b0ee978>"
      ]
     },
     "metadata": {
      "needs_background": "light"
     },
     "output_type": "display_data"
    },
    {
     "data": {
      "image/png": "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\n",
      "text/plain": [
       "<matplotlib.figure.Figure at 0x7fa10b0a4898>"
      ]
     },
     "metadata": {
      "needs_background": "light"
     },
     "output_type": "display_data"
    },
    {
     "data": {
      "image/png": "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\n",
      "text/plain": [
       "<matplotlib.figure.Figure at 0x7fa10b08f6a0>"
      ]
     },
     "metadata": {
      "needs_background": "light"
     },
     "output_type": "display_data"
    },
    {
     "data": {
      "image/png": "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\n",
      "text/plain": [
       "<matplotlib.figure.Figure at 0x7fa10b003940>"
      ]
     },
     "metadata": {
      "needs_background": "light"
     },
     "output_type": "display_data"
    },
    {
     "data": {
      "image/png": "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\n",
      "text/plain": [
       "<matplotlib.figure.Figure at 0x7fa10af60320>"
      ]
     },
     "metadata": {
      "needs_background": "light"
     },
     "output_type": "display_data"
    },
    {
     "data": {
      "image/png": "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\n",
      "text/plain": [
       "<matplotlib.figure.Figure at 0x7fa10d195b70>"
      ]
     },
     "metadata": {
      "needs_background": "light"
     },
     "output_type": "display_data"
    },
    {
     "data": {
      "image/png": "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\n",
      "text/plain": [
       "<matplotlib.figure.Figure at 0x7fa10af08630>"
      ]
     },
     "metadata": {
      "needs_background": "light"
     },
     "output_type": "display_data"
    },
    {
     "data": {
      "image/png": "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\n",
      "text/plain": [
       "<matplotlib.figure.Figure at 0x7fa10af69f60>"
      ]
     },
     "metadata": {
      "needs_background": "light"
     },
     "output_type": "display_data"
    },
    {
     "data": {
      "image/png": "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\n",
      "text/plain": [
       "<matplotlib.figure.Figure at 0x7fa10af40eb8>"
      ]
     },
     "metadata": {
      "needs_background": "light"
     },
     "output_type": "display_data"
    }
   ],
   "source": [
    "env = GridEnvironment(normalize=True)\n",
    "agent = RandomAgent(env)\n",
    "\n",
    "obs = env.reset()\n",
    "done = False\n",
    "agent.epsilon = 0\n",
    "env.render()\n",
    "plt.show()\n",
    "\n",
    "while not done:\n",
    "    action = agent.step(obs, verbose=True)\n",
    "    obs, reward, done, info = env.step(action)\n",
    "    env.render()\n",
    "    plt.show()"
   ]
  },
  {
   "cell_type": "markdown",
   "metadata": {
    "colab_type": "text",
    "id": "JCKzZh7u0zFJ"
   },
   "source": [
    "## Heuristic Agent\n",
    "This runs the environment with a heuristic agent. No need to make any changes. Try to run it!"
   ]
  },
  {
   "cell_type": "code",
   "execution_count": 6,
   "metadata": {
    "colab": {},
    "colab_type": "code",
    "id": "aVGLhrTG0yQp"
   },
   "outputs": [],
   "source": [
    "class HeuristicAgent:\n",
    "    def __init__(self, env):\n",
    "        self.env = env\n",
    "        self.observation_space = env.observation_space\n",
    "        self.action_space = env.action_space\n",
    "\n",
    "    def policy(self, observation):\n",
    "        # 0 - down\n",
    "        # 1 - up\n",
    "        # 2 - right\n",
    "        # 3 - left\n",
    "        \n",
    "        if (observation[1] < 1.):\n",
    "            return 2\n",
    "        if (observation[0] < 1.):\n",
    "            return 0\n",
    "        return 0\n",
    "        \n",
    "    def step(self, observation, verbose=False):\n",
    "        if verbose:\n",
    "            print(observation)\n",
    "        return self.policy(observation)"
   ]
  },
  {
   "cell_type": "code",
   "execution_count": null,
   "metadata": {},
   "outputs": [],
   "source": []
  },
  {
   "cell_type": "code",
   "execution_count": 7,
   "metadata": {
    "colab": {},
    "colab_type": "code",
    "id": "kZGSRSzo07v-"
   },
   "outputs": [
    {
     "data": {
      "image/png": "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\n",
      "text/plain": [
       "<matplotlib.figure.Figure at 0x7fa10d1cc828>"
      ]
     },
     "metadata": {
      "needs_background": "light"
     },
     "output_type": "display_data"
    },
    {
     "name": "stdout",
     "output_type": "stream",
     "text": [
      "[0. 0.]\n"
     ]
    },
    {
     "data": {
      "image/png": "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\n",
      "text/plain": [
       "<matplotlib.figure.Figure at 0x7fa10ad6b0f0>"
      ]
     },
     "metadata": {
      "needs_background": "light"
     },
     "output_type": "display_data"
    },
    {
     "name": "stdout",
     "output_type": "stream",
     "text": [
      "[0.   0.25]\n"
     ]
    },
    {
     "data": {
      "image/png": "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\n",
      "text/plain": [
       "<matplotlib.figure.Figure at 0x7fa10ae0a908>"
      ]
     },
     "metadata": {
      "needs_background": "light"
     },
     "output_type": "display_data"
    },
    {
     "name": "stdout",
     "output_type": "stream",
     "text": [
      "[0.  0.5]\n"
     ]
    },
    {
     "data": {
      "image/png": "iVBORw0KGgoAAAANSUhEUgAAAPgAAAD8CAYAAABaQGkdAAAABHNCSVQICAgIfAhkiAAAAAlwSFlzAAALEgAACxIB0t1+/AAAADl0RVh0U29mdHdhcmUAbWF0cGxvdGxpYiB2ZXJzaW9uIDIuMS4xLCBodHRwOi8vbWF0cGxvdGxpYi5vcmcvAOZPmwAACOdJREFUeJzt3c+LnIUdx/HPp5s1a7TgoTloNjQerDSITWBJA7mlgusP9JqAnoS9VIggiB79A2q9eFk0WFAUQQ8SLCHUBBFsNIkxmK6WIBaDQlpENC1NjH562DmENJt5dud59tn5+n7Bws7mYfZD2Pc+M7PDjJMIQE0/63sAgO4QOFAYgQOFEThQGIEDhRE4UBiBA4UROFAYgQOFreviSq/z+kzphi6uGmPmV3f+p+8Jjf391Ia+JzT2X/1bF3PBw47rJPAp3aDf+nddXDXGzMGDJ/ue0Njdt2zre0JjR/OXRsdxEx0ojMCBwggcKIzAgcIIHCiMwIHCCBwojMCBwggcKIzAgcIIHCiMwIHCCBwojMCBwggcKIzAgcIaBW571vants/YfrLrUQDaMTRw2xOSnpN0j6Stkvba3tr1MACja3IG3yHpTJLPklyU9KqkB7udBaANTQLfJOmLyy6fHXwNwBrX5EUXr/bKjf/3puK25yTNSdKUxufVKYHKmpzBz0rafNnlaUlfXnlQkvkkM0lmJrW+rX0ARtAk8A8k3Wb7VtvXSdoj6c1uZwFow9Cb6Eku2X5U0kFJE5L2Jznd+TIAI2v0xgdJ3pL0VsdbALSMZ7IBhRE4UBiBA4UROFAYgQOFEThQGIEDhRE4UBiBA4UROFAYgQOFEThQGIEDhRE4UBiBA4UROFAYgQOFNXpFF2Cl7r5lW98TftI4gwOFEThQGIEDhRE4UBiBA4UROFAYgQOFEThQGIEDhRE4UBiBA4UROFAYgQOFEThQGIEDhRE4UBiBA4UNDdz2ftvnbH+8GoMAtKfJGfxFSbMd7wDQgaGBJ3lH0tersAVAy7gPDhTW2quq2p6TNCdJU9rQ1tUCGEFrZ/Ak80lmksxMan1bVwtgBNxEBwpr8meyVyS9J+l222dtP9L9LABtGHofPMne1RgCoH3cRAcKI3CgMAIHCiNwoDACBwojcKAwAgcKI3CgMAIHCiNwoDACBwojcKAwAgcKI3CgMAIHCiNwoDACBwojcKAwAgcKI3CgMAIHCiNwoDACBwojcKAwAgcKI3CgMAIHCiNwoDACBwojcKAwAgcKI3CgMAIHCiNwoLChgdvebPuw7QXbp23vW41hAEa3rsExlyQ9nuSE7Z9LOm77UJK/dbwNwIiGnsGTfJXkxODz7yQtSNrU9TAAo1vWfXDbWyRtl3S0izEA2tXkJrokyfaNkl6X9FiSb6/y73OS5iRpShtaGwhg5RqdwW1PajHul5O8cbVjkswnmUkyM6n1bW4EsEJNHkW3pBckLSR5pvtJANrS5Ay+S9LDknbbPjn4uLfjXQBaMPQ+eJJ3JXkVtgBoGc9kAwojcKAwAgcKI3CgMAIHCiNwoDACBwojcKAwAgcKI3CgMAIHCiNwoDACBwojcKAwAgcKI3CgMAIHCiNwoDACBwojcKAwAgcKI3CgMAIHCiNwoDACBwojcKAwAgcKI3CgMAIHCiNwoDACBwojcKAwAgcKI3CgMAIHChsauO0p2+/b/sj2adtPr8YwAKNb1+CYC5J2Jzlve1LSu7b/nOSvHW8DMKKhgSeJpPODi5ODj3Q5CkA7Gt0Htz1h+6Skc5IOJTna7SwAbWgUeJIfkmyTNC1ph+07rjzG9pztY7aPfa8Lbe8EsALLehQ9yTeSjkiavcq/zSeZSTIzqfUtzQMwiiaPom+0fdPg8+sl3SXpk66HARhdk0fRb5b0J9sTWvyF8FqSA93OAtCGJo+in5K0fRW2AGgZz2QDCiNwoDACBwojcKAwAgcKI3CgMAIHCiNwoDACBwojcKAwAgcKI3CgMAIHCiNwoDACBwojcKCwJq/oAvwknPnjzr4nNHbhD83eloAzOFAYgQOFEThQGIEDhRE4UBiBA4UROFAYgQOFEThQGIEDhRE4UBiBA4UROFAYgQOFEThQGIEDhRE4UFjjwG1P2P7Q9oEuBwFoz3LO4PskLXQ1BED7GgVue1rSfZKe73YOgDY1PYM/K+kJST92uAVAy4YGbvt+SeeSHB9y3JztY7aPfa8LrQ0EsHJNzuC7JD1g+3NJr0rabfulKw9KMp9kJsnMpNa3PBPASgwNPMlTSaaTbJG0R9LbSR7qfBmAkfF3cKCwZb2zSZIjko50sgRA6ziDA4UROFAYgQOFEThQGIEDhRE4UBiBA4UROFAYgQOFEThQGIEDhRE4UBiBA4UROFAYgQOFEThQGIEDhTlJ+1dq/1PSP1q+2l9I+lfL19mlcdo7Tlul8drb1dZfJtk47KBOAu+C7WNJZvre0dQ47R2nrdJ47e17KzfRgcIIHChsnAKf73vAMo3T3nHaKo3X3l63js19cADLN05ncADLNBaB2561/antM7af7HvPtdjeb/uc7Y/73jKM7c22D9tesH3a9r6+Ny3F9pTt921/NNj6dN+bmrA9YftD2wf6+P5rPnDbE5Kek3SPpK2S9tre2u+qa3pR0mzfIxq6JOnxJL+WtFPS79fw/+0FSbuT/EbSNkmztnf2vKmJfZIW+vrmaz5wSTsknUnyWZKLWnyH0wd73rSkJO9I+rrvHU0k+SrJicHn32nxB3FTv6uuLovODy5ODj7W9ANItqcl3Sfp+b42jEPgmyR9cdnls1qjP4TjzPYWSdslHe13ydIGN3dPSjon6VCSNbt14FlJT0j6sa8B4xC4r/K1Nf2be9zYvlHS65IeS/Jt33uWkuSHJNskTUvaYfuOvjctxfb9ks4lOd7njnEI/KykzZddnpb0ZU9byrE9qcW4X07yRt97mkjyjRbf5XYtP9axS9IDtj/X4t3K3bZfWu0R4xD4B5Jus32r7esk7ZH0Zs+bSrBtSS9IWkjyTN97rsX2Rts3DT6/XtJdkj7pd9XSkjyVZDrJFi3+zL6d5KHV3rHmA09ySdKjkg5q8UGg15Kc7nfV0my/Iuk9SbfbPmv7kb43XcMuSQ9r8exycvBxb9+jlnCzpMO2T2nxl/6hJL386Wmc8Ew2oLA1fwYHsHIEDhRG4EBhBA4URuBAYQQOFEbgQGEEDhT2P42a0GNM3jx6AAAAAElFTkSuQmCC\n",
      "text/plain": [
       "<matplotlib.figure.Figure at 0x7fa10ae3e898>"
      ]
     },
     "metadata": {
      "needs_background": "light"
     },
     "output_type": "display_data"
    },
    {
     "name": "stdout",
     "output_type": "stream",
     "text": [
      "[0.   0.75]\n"
     ]
    },
    {
     "data": {
      "image/png": "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\n",
      "text/plain": [
       "<matplotlib.figure.Figure at 0x7fa10b133e10>"
      ]
     },
     "metadata": {
      "needs_background": "light"
     },
     "output_type": "display_data"
    },
    {
     "name": "stdout",
     "output_type": "stream",
     "text": [
      "[0. 1.]\n"
     ]
    },
    {
     "data": {
      "image/png": "iVBORw0KGgoAAAANSUhEUgAAAPgAAAD8CAYAAABaQGkdAAAABHNCSVQICAgIfAhkiAAAAAlwSFlzAAALEgAACxIB0t1+/AAAADl0RVh0U29mdHdhcmUAbWF0cGxvdGxpYiB2ZXJzaW9uIDIuMS4xLCBodHRwOi8vbWF0cGxvdGxpYi5vcmcvAOZPmwAACN5JREFUeJzt3c+LnIUdx/HPp+uaNVrw0BxsNjQeRBqEJrCkgdxSwfgDvSagJ2EvFSIIokf/gFovXoIGC4oi6EGCJYSaIIKNJjGK6WoJYnGJkLYiGks3Rj897BxCupt5dud59tn5+n7Bws7mYfZD2Pc+M7PDjJMIQE0/63sAgO4QOFAYgQOFEThQGIEDhRE4UBiBA4UROFAYgQOFXdfFlV7vDZnSjV1cNQBJ/9V3upQFDzuuk8CndKN+6991cdUAJJ3IXxodx010oDACBwojcKAwAgcKI3CgMAIHCiNwoDACBwojcKAwAgcKI3CgMAIHCiNwoDACBwojcKAwAgcKaxS47b22P7V9zvYTXY8C0I6hgduekPSspLslbZO03/a2rocBGF2TM/hOSeeSfJbkkqRXJD3Q7SwAbWgS+GZJX1xxeX7wNQDrXJMXXVzqlRv/703Fbc9KmpWkKW0ccRaANjQ5g89L2nLF5WlJ568+KMnBJDNJZia1oa19AEbQJPD3Jd1m+1bb10vaJ+mNbmcBaMPQm+hJLtt+RNIRSROSDiU52/kyACNr9MYHSd6U9GbHWwC0jGeyAYUROFAYgQOFEThQGIEDhRE4UBiBA4UROFAYgQOFEThQGIEDhRE4UBiBA4UROFAYgQOFEThQGIEDhTV6RRfgp+DI+TN9T2hs513/aXQcZ3CgMAIHCiNwoDACBwojcKAwAgcKI3CgMAIHCiNwoDACBwojcKAwAgcKI3CgMAIHCiNwoDACBwojcKCwoYHbPmT7gu2P12IQgPY0OYO/IGlvxzsAdGBo4EnelvTVGmwB0DLugwOFtfaqqrZnJc1K0pQ2tnW1AEbQ2hk8ycEkM0lmJrWhrasFMAJuogOFNfkz2cuS3pV0u+152w93PwtAG4beB0+yfy2GAGgfN9GBwggcKIzAgcIIHCiMwIHCCBwojMCBwggcKIzAgcIIHCiMwIHCCBwojMCBwggcKIzAgcIIHCistRddBMbdXb/c3veExv6efzc6jjM4UBiBA4UROFAYgQOFEThQGIEDhRE4UBiBA4UROFAYgQOFEThQGIEDhRE4UBiBA4UROFAYgQOFEThQ2NDAbW+xfcz2nO2ztg+sxTAAo2vykk2XJT2W5LTtn0s6Zftokr91vA3AiIaewZN8meT04PNvJc1J2tz1MACjW9F9cNtbJe2QdKKLMQDa1fhVVW3fJOk1SY8m+WaJf5+VNCtJU9rY2kAAq9foDG57Uotxv5Tk9aWOSXIwyUySmUltaHMjgFVq8ii6JT0vaS7J091PAtCWJmfw3ZIekrTH9pnBxz0d7wLQgqH3wZO8I8lrsAVAy3gmG1AYgQOFEThQGIEDhRE4UBiBA4UROFAYgQOFEThQGIEDhRE4UBiBA4UROFAYgQOFEThQGIEDhRE4UBiBA4UROFAYgQOFEThQGIEDhRE4UBiBA4UROFAYgQOFEThQGIEDhRE4UBiBA4UROFAYgQOFEThQGIEDhRE4UNjQwG1P2X7P9oe2z9p+ai2GARjddQ2OWZC0J8lF25OS3rH95yR/7XgbgBENDTxJJF0cXJwcfKTLUQDa0eg+uO0J22ckXZB0NMmJbmcBaEOjwJP8kGS7pGlJO23fcfUxtmdtn7R98nsttL0TwCqs6FH0JF9LOi5p7xL/djDJTJKZSW1oaR6AUTR5FH2T7ZsHn98g6U5Jn3Q9DMDomjyKfoukP9me0OIvhFeTHO52FoA2NHkU/SNJO9ZgC4CW8Uw2oDACBwojcKAwAgcKI3CgMAIHCiNwoDACBwojcKAwAgcKI3CgMAIHCiNwoDACBwojcKAwAgcKa/KKLsBPwrk/7up7QmMLf2j2tgScwYHCCBwojMCBwggcKIzAgcIIHCiMwIHCCBwojMCBwggcKIzAgcIIHCiMwIHCCBwojMCBwggcKIzAgcIaB257wvYHtg93OQhAe1ZyBj8gaa6rIQDa1yhw29OS7pX0XLdzALSp6Rn8GUmPS/qxwy0AWjY0cNv3SbqQ5NSQ42Ztn7R98nsttDYQwOo1OYPvlnS/7c8lvSJpj+0Xrz4oycEkM0lmJrWh5ZkAVmNo4EmeTDKdZKukfZLeSvJg58sAjIy/gwOFreidTZIcl3S8kyUAWscZHCiMwIHCCBwojMCBwggcKIzAgcIIHCiMwIHCCBwojMCBwggcKIzAgcIIHCiMwIHCCBwojMCBwggcKMxJ2r9S+5+S/tHy1f5C0r9avs4ujdPecdoqjdferrb+KsmmYQd1EngXbJ9MMtP3jqbGae84bZXGa2/fW7mJDhRG4EBh4xT4wb4HrNA47R2nrdJ47e1169jcBwewcuN0BgewQmMRuO29tj+1fc72E33vuRbbh2xfsP1x31uGsb3F9jHbc7bP2j7Q96bl2J6y/Z7tDwdbn+p7UxO2J2x/YPtwH99/3Qdue0LSs5LulrRN0n7b2/pddU0vSNrb94iGLkt6LMmvJe2S9Pt1/H+7IGlPkt9I2i5pr+1dPW9q4oCkub6++boPXNJOSeeSfJbkkhbf4fSBnjctK8nbkr7qe0cTSb5Mcnrw+bda/EHc3O+qpWXRxcHFycHHun4Ayfa0pHslPdfXhnEIfLOkL664PK91+kM4zmxvlbRD0ol+lyxvcHP3jKQLko4mWbdbB56R9LikH/saMA6Be4mvrevf3OPG9k2SXpP0aJJv+t6znCQ/JNkuaVrSTtt39L1pObbvk3Qhyak+d4xD4POStlxxeVrS+Z62lGN7Uotxv5Tk9b73NJHkay2+y+16fqxjt6T7bX+uxbuVe2y/uNYjxiHw9yXdZvtW29dL2ifpjZ43lWDbkp6XNJfk6b73XIvtTbZvHnx+g6Q7JX3S76rlJXkyyXSSrVr8mX0ryYNrvWPdB57ksqRHJB3R4oNAryY52++q5dl+WdK7km63PW/74b43XcNuSQ9p8exyZvBxT9+jlnGLpGO2P9LiL/2jSXr509M44ZlsQGHr/gwOYPUIHCiMwIHCCBwojMCBwggcKIzAgcIIHCjsf8dh0Tpe0QBEAAAAAElFTkSuQmCC\n",
      "text/plain": [
       "<matplotlib.figure.Figure at 0x7fa10d18fd30>"
      ]
     },
     "metadata": {
      "needs_background": "light"
     },
     "output_type": "display_data"
    },
    {
     "name": "stdout",
     "output_type": "stream",
     "text": [
      "[0.25 1.  ]\n"
     ]
    },
    {
     "data": {
      "image/png": "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\n",
      "text/plain": [
       "<matplotlib.figure.Figure at 0x7fa10ae0def0>"
      ]
     },
     "metadata": {
      "needs_background": "light"
     },
     "output_type": "display_data"
    },
    {
     "name": "stdout",
     "output_type": "stream",
     "text": [
      "[0.5 1. ]\n"
     ]
    },
    {
     "data": {
      "image/png": "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\n",
      "text/plain": [
       "<matplotlib.figure.Figure at 0x7fa10ad8c5f8>"
      ]
     },
     "metadata": {
      "needs_background": "light"
     },
     "output_type": "display_data"
    },
    {
     "name": "stdout",
     "output_type": "stream",
     "text": [
      "[0.75 1.  ]\n"
     ]
    },
    {
     "data": {
      "image/png": "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\n",
      "text/plain": [
       "<matplotlib.figure.Figure at 0x7fa10ae92710>"
      ]
     },
     "metadata": {
      "needs_background": "light"
     },
     "output_type": "display_data"
    }
   ],
   "source": [
    "env = GridEnvironment(normalize=True)\n",
    "agent = HeuristicAgent(env)\n",
    "\n",
    "obs = env.reset()\n",
    "done = False\n",
    "agent.epsilon = 0\n",
    "env.render()\n",
    "plt.show()\n",
    "\n",
    "while not done:\n",
    "    action = agent.step(obs, verbose=True)\n",
    "    obs, reward, done, info = env.step(action)\n",
    "    env.render()\n",
    "    plt.show()"
   ]
  },
  {
   "cell_type": "markdown",
   "metadata": {
    "colab_type": "text",
    "id": "oSjsMD6Ze8ld"
   },
   "source": [
    "This is where you need to define policy and update Q tables.\n",
    "For policy.\n",
    "\n",
    "*  \n",
    "[np.argmax](https://docs.scipy.org/doc/numpy/reference/generated/numpy.argmax.html) - Returns the indices of the maximum values along an axis.\n",
    "\n",
    "### Epsilon\n",
    "\n",
    "Our agent will randomly select its action at first by a certain percentage, called ‘exploration rate’ or ‘epsilon’. This is because at first, it is better for the agent to try all kinds of things before it starts to see the patterns. When it is not deciding the action randomly, the agent will predict the reward value based on the current state and pick the action that will give the highest reward. We want our agent to decrease the number of random action, as it goes, so we indroduce an exponential-decay epsilon, that eventually will allow our agent to explore the evironment. \\\\\n",
    "\n",
    "\n",
    "\n",
    "###  <font color='red'>Task 1: Implement policy function.</font>  <br>\n",
    "**Instructions:**\n",
    "- Our agent will randomly select its action at first by a certain percentage, called ‘exploration rate’ or ‘epsilon’. This is because at first, it is better for the agent to try all kinds of things before it starts to see the patterns. Select a random uniform number. If it's less than epsilon, return the random choice action space.\n",
    "- When it is not deciding the action randomly, the agent will predict the reward value based on the current state and pick the action that will give the highest reward. \n",
    "\\begin{align} \\notag\n",
    "\\pi\\left(s_{t}\\right)=\\underset{a \\in A}{\\operatorname{argmax}} Q_{\\theta}\\left(s_{t}, a\\right)\n",
    "\\end{align} \n",
    "- Return the policy\n",
    "- Please note, that the name for all the variables should start with <mark>self</mark>, thus </br> \n",
    "\n",
    "epsilon $\\rightarrow$ self.epsilon </br> \n",
    "action_space $\\rightarrow$ self.action_space\n",
    "\n",
    "###  <font color='red'>Task 2: Update Q-table</font>  <br>\n",
   ]
  },
  {
   "cell_type": "code",
   "execution_count": 8,
   "metadata": {
    "colab": {},
    "colab_type": "code",
    "id": "l88irSuqe8lf"
   },
   "outputs": [],
   "source": [
    "class QLearningAgent:\n",
    "    def __init__(self, env, epsilon=1.0, lr=0.1, gamma=0.9):\n",
    "        self.env = env\n",
    "        self.observation_space = env.observation_space\n",
    "        self.action_space = env.action_space\n",
    "        q_table_dim = env.observation_space.shape[0] + 1\n",
    "        self.q_table = np.zeros((q_table_dim, q_table_dim, env.action_space.n))\n",
    "        self.epsilon = epsilon\n",
    "        self.lr = lr\n",
    "        self.gamma = gamma\n",
    "\n",
    "    def policy(self, observation):\n",
    "        if np.random.random_sample() < self.epsilon:\n",
    "            return np.random.choice(self.action_space.n)\n",
    "        else:\n",
    "            return np.argmax(self.q_table[env.agent_pos[0],env.agent_pos[1]])\n",
    "        \n",
    "        \n",
    "    def step(self, observation):\n",
    "        return self.policy(observation)\n",
    "        \n",
    "    def update(self, state, action, reward, next_state):\n",
    "        state = state.astype(int)\n",
    "        next_state = next_state.astype(int)\n",
    "        self.q_table[state[0],state[1],action] = (1-self.lr)*self.q_table[state[0],state[1],action]+self.lr*(reward + self.gamma*(np.max(self.q_table[next_state[0],next_state[1]])))\n",
    "        self.epsilon =  self.epsilon/1.001\n",
    "        \n",
    "    def set_epsilon(self, epsilon):\n",
    "        self.epsilon = epsilon"
   ]
  },
  {
   "cell_type": "code",
   "execution_count": null,
   "metadata": {},
   "outputs": [],
   "source": []
  },
  {
   "cell_type": "code",
   "execution_count": null,
   "metadata": {},
   "outputs": [],
   "source": []
  },
  {
   "cell_type": "markdown",
   "metadata": {
    "colab_type": "text",
    "id": "UNKDdzD3e8lj"
   },
   "source": [
    "### Training\n",
    "### Environment\n",
    "First, we initialize our environment.  The environment, loosely structured like [OpenAI's Gym Environments](https://gym.openai.com/), has three main methods: `reset`, `step` and `render`. You'll only need `reset` and `step` here.\n",
    "\n",
    "- When we call **reset**, we initialize the environment with a fresh episode. This allows us to effectively run through episodes (only needing to call reset at the beginning of an episode), but, more importantly, `reset()` returns the environment's initial state.\n",
    "\n",
    "- The **step** method accepts an action as a parameter (which, for this example, is an integer in [0, 3]), processes the action, and returns the new state, the reward for performing the action, and a boolean indicating if the run is over.\n",
    "\n",
    "### Agent\n",
    "When we initialize the agent, we must pass both a `environment` into QLearningAgent function.\n",
    "###  <font color='red'>Task 3: Implement the training algorithm</font>  <br>\n",
    "**Instructions:**\n",
    "- After initialization, pass the initial state to obs. Then check if it's already done. If done = False, you'll keep going. While it's not done, you'll need to update `state`, `action`,`reward` and `next_state`. You can get action by `step` the current state on agent. Use `copy` to record the current state. `step` the current action on environment to return the new state, the reward for performing the action, a boolean indicating if the run is over and some other information. Add the new reward on the total rewards. Use `copy` to save the new state returned by `step`. Update the `state`, `action`, `reward`, `next_state` of agent."
   ]
  },
  {
   "cell_type": "code",
   "execution_count": 9,
   "metadata": {
    "colab": {},
    "colab_type": "code",
    "id": "2SDbl2Kue8lk"
   },
   "outputs": [],
   "source": [
    "env = GridEnvironment() # note: we do not normalize\n",
    "agent = QLearningAgent(env)\n",
    "episodes = 1000 # number of games we want the agent to play\n",
    "delta_epsilon = agent.epsilon/episodes\n",
    "total_rewards = []\n",
    "epsilons = [agent.epsilon]\n",
    "\n",
    "for i in range(episodes):\n",
    "    env = GridEnvironment()\n",
    "    obs = env.reset()\n",
    "    done = False\n",
    "    treward=0 #reward for one game\n",
    "    while not done:\n",
    "        state = obs\n",
    "        state = state.astype(int)\n",
    "        action = agent.step(obs)\n",
    "        obs, reward, done, info = env.step(action)\n",
    "        agent.update(state, action, reward, obs)# train code\n",
    "        treward += reward\n",
    "    epsilons.append(agent.epsilon/(1+i))\n",
    "    total_rewards.append(treward)\n",
    "        \n",
    "       \n",
    "\n",
    "# Training Process (Task 3) (20 points)"
   ]
  },
  {
   "cell_type": "markdown",
   "metadata": {
    "colab_type": "text",
    "id": "AHDJV4ZAE2l8"
   },
   "source": [
    "#### Visualize $\\epsilon$\n",
    "Plot our value of $\\epsilon$ over each episode"
   ]
  },
  {
   "cell_type": "code",
   "execution_count": 10,
   "metadata": {
    "colab": {},
    "colab_type": "code",
    "id": "q137fw4je8ln"
   },
   "outputs": [
    {
     "data": {
      "text/plain": [
       "[<matplotlib.lines.Line2D at 0x7fa10aef3b38>]"
      ]
     },
     "execution_count": 10,
     "metadata": {},
     "output_type": "execute_result"
    },
    {
     "data": {
      "image/png": "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\n",
      "text/plain": [
       "<matplotlib.figure.Figure at 0x7fa10d1790f0>"
      ]
     },
     "metadata": {
      "needs_background": "light"
     },
     "output_type": "display_data"
    }
   ],
   "source": [
    "plt.xlabel('Episode')\n",
    "plt.ylabel('$\\epsilon$')\n",
    "plt.plot(epsilons)"
   ]
  },
  {
   "cell_type": "markdown",
   "metadata": {
    "colab_type": "text",
    "id": "30Yr74K2e8lr"
   },
   "source": [
    "#### Visualize Rewards\n",
    "Plot total_rewards per episode.  We apply a rolling mean of window $10$ to visualize easier."
   ]
  },
  {
   "cell_type": "code",
   "execution_count": 155,
   "metadata": {
    "colab": {},
    "colab_type": "code",
    "id": "Raqojkywe8ls"
   },
   "outputs": [
    {
     "data": {
      "text/plain": [
       "[<matplotlib.lines.Line2D at 0x7f41950035f8>]"
      ]
     },
     "execution_count": 155,
     "metadata": {},
     "output_type": "execute_result"
    },
    {
     "data": {
      "image/png": "iVBORw0KGgoAAAANSUhEUgAAAXwAAAEKCAYAAAARnO4WAAAABHNCSVQICAgIfAhkiAAAAAlwSFlzAAALEgAACxIB0t1+/AAAADl0RVh0U29mdHdhcmUAbWF0cGxvdGxpYiB2ZXJzaW9uIDIuMS4xLCBodHRwOi8vbWF0cGxvdGxpYi5vcmcvAOZPmwAAIABJREFUeJzt3XmcXHWZ7/HP09V7Op09ELISEoIBZGvZ4YLs4sgdxQFGR4dR44IKouOoo8Po6KhcR52ZC6O5iigqLiwOIrIJyLAT9iUsgSSQBdKdrZNea3nuH+dUpaq6uqt6qV5Ofd+vV7+666y/05U89evn/M7zM3dHRESir2qsGyAiIqNDAV9EpEIo4IuIVAgFfBGRCqGALyJSIRTwRUQqhAK+iEiFUMAXEakQCvgiIhWieqwbkG3mzJm+aNGisW6GiMiE8dhjj7W5+6xSth1XAX/RokWsWrVqrJshIjJhmNn6UrdVSkdEpEIo4IuIVAgFfBGRCqGALyJSIRTwRUQqRFkDvpl9xsyeM7NnzexaM6sv5/lERKR/ZQv4ZjYX+DTQ4u4HATHg/HKdT0REBlbucfjVQIOZxYFGYFOZz1exnt24k55EiiMWTivreXoSSX76wDpOX743i2ZO6ne7bR29/OKh9Ry3dCaHL5jW5/VI2Lyzi18/+jqpVO40nWceNIfl+zT3u36kNdRWc+Fxi6iviXH3i1t4Yv32Ed0eM845dB/2m9XE+q0d3PD4RgaamjT7+Nl++fBrvLGzq+TrmghO3H8WLYums6Ozl2seXE88mRrrJg1JY101H/tf+5X9PGUL+O6+0cy+A7wGdAG3u/vt+duZ2QpgBcCCBQvK1ZzIe+d/3gfAum+dXdbzPPjKVv71lhd44rUd/Nf7j+h3uxuf2Mi/3fESf3phC7+76Dh+l/d6JFz78Gv8x11rMNuzzB1eenM3P/ibIwquH2npuLv/Xk2c8pa9+NINz7B5Z3e/50xvv3R2E6cu34t/vOEZNg2wfXqfN3d28+1z38pV963lpw+uL3r8JbObOG35Xpnlm3d28aUbnwEo6+9jNLnD/6xp48ZPHMfNT2/m3+54CZiY1zezqW5iB3wzmwacA+wL7AB+a2bvd/efZ2/n7iuBlQAtLS2aUX2Y3B0r47/417cHPcSueLLg+lTK6U2mWL+1A4At7d10x5OZ1xt3DK+HmUimqI5V4e68vGU3c6c2cP8X3p5Zf+FPHmH9tk6640nWbe3ss36kte3uoeXrd7K2rYP27jhvtHdzyalLueTU/Qtuv3V3D0eE2+/qjrO5vZuLT1nKZ04rvD3Au6+8n/XbOoLf47ZOls9p5paLTyi47baOXg7/lztY27ab7vhMYlVGMuW82hr8/n/2d0dy4v4lPYU/7n3h+qe5c/WbwXvd1kFtrIoX/uVMqqomYMQfJeVM6ZwKrHX3VgAzuwE4Fvj5gHvJoD3+2p6UwJdufIZvvvutZTvXhu2dAEyqK/xP530/epgHX92aeb1pZzcHfOXWzOvWXT382+0v8tnTlxU89vHfvrvfoLSlvZvjL7+bC49dRGdvkj8++wZHL56es8386Y3c/WJr5pz560fajEm1NNbG+PofVvP1P6wO2jCtsd/tp0+qZVJtjG/csppv3LI60+aBzJ/eyH8/uSlzTWccuFe/205rrKGprpp/veUF/vWWFwoeKyrmT2+kbXdv5veyeOYkBfsiyhnwXwOONrNGgpTOKYAK5ZTB69s6Mz+va+scYMvh2xD28HsK9PDdncdf284xi2dw4v6z2HfmJF7b1kE6rbrvzEl87OePsWbL7oLHfizMZf/y4dcKBvwX3thFbyLFj+5by7K9JgPw5bOX52yz4sTFzJ3aQDptf8LSmUO6zlKZGVf89eG88MYuAOqqqzjzoL0H3P7/5m1/1gDbA1x8ylIO2Ls58/rUt8we8Pj/+deH8cLmXaze3M5NT21i9uQ6LjxuX2Y21bJoRnQC/vlvm09trIpE+GaX+/5VFJQzh/+wmV0HPA4kgCcIUzcysnoTQURdPGtSn1TLi2/s4jerXuevWuazbO/Jwz5XOuB39uaeZ0t7N1fe8wo9iRRnHbw3HzhmUcH9D5k3JbPv69s6ufqBdSTD/7CvtAYfBPe/0pazz29Xvc5zm9q5/rENACRTztq2Dj5wzEIOmjslZ9t50xr56CjkQrOdfMBsTj6g/yA83O0Xz2ri4yc1lX78ZbM5edlsbn32DW56ahMH7tPMx08a3d/JaJjRVMdHTlw81s2YUMo6SsfdLwMuK+c5BHrDLvSUhho6e3ID8U/uX8uvHn2dzt7EiKR6NoYpnfwPlpue2sTVD6xj1uS6AUfhNNTGMvv+7omN/Pi+tTTX5/4z3NWdyOTqAb76++fpTaQy1zm5rprqmHHsfjOGfT1RdtS+05k9uY5PnbJ0rJsi48S4Ko8sQxNP7An4W3f35qxL98jT34dqZ2ec9u44beHxN27vIpFMEasydvckeG5TO5Prqnn0H08d8DgNNbHMMTp6k9TGqnj6n8/IrL/2kdf44g3P8EprB8v2nszungS7exJ86u1L+M+71gDwzFfPKHhsyTVtUi2PFHk/pLIo4EdATg8/L9WSHhWzcRgB/5G12/irHz6YeV1XXcWWXT185GerOHT+NL53ZzAcbuns4mmHxtpquuLhSJ/eBA21uWPFF4Y3Fc/4/r3c+Ilj+csrHwDos52IDJ4CfgTEk0EOfEpDDV29iZx1OzqD3vTunkSf/Uq1ri0Y0vf3Zyxj9uQ6Dl84jf99xf08u6k957iX/cWBRY9VXxOjK/xQ6oonacwL5EctnsG7DtmHm57axL0v7cnlN9TEuPPSE6muUvknkaHS/54ISN+0ba6voaM3ydbdPUAwaqa9OwjIXXk9/7tf3MLnfvsUd7+4BYA327u58p41fZ7g/M2q1/n89U8D8DfHLOS9LfPZb1YTK05YTOuuHh5dt2dI6HFLiufUG2tjbNzRxdMbdtDZm6Qh72nQWJVxwZHBA3jXPLQuZ78lsycP+HSviAxMAT8CepMpamLGPlMbAHjglWAcfGdvkmTKqYkZnfFkTjC/6r61XPfYBq66by0QPMRy+a0v8szGnTnH/vx1T2d+bqrd8wfhsUtyhzue1zK/pAe+jl4cfChc8+B6unqTBVM16V5/W9b9iNpq/VMVGS79L5oAOoqkY+KJFDWxqsyY83Rvvr07DsDsyfUkU05PYk+dkfQx0zn/9H2AN3Z293ue7Idajlg4jfccPg+Ak5fN4tvnljYC6Oy3zuHwBVPZsL2LV9s6+qR0gILLdnbGSzq+iPRPAX+c+/NLrRx42W2sWret3216kylqq6sygTI97HFHGCRnNNUC8M83PZfZpyseBPj0h8O0xmCbH977as6x0z3r6gJPMO47szE8ft2grmnetEYefHUra9s6aKztexspu+jXweE4+5mTB3cOEelLN23HuVuffQOA5za107KocJmAeDLo4aeDZ7rXvikcoVNfHQTQXz36Ot96T9ATT9/cTX84pHPpu7r39KSTKac3keKUA2bz+TMP6HPeDx67iH1nNvG2RYN7wnHetIbMz187p++N3uwe/rUrjubFN9pHrMKmSCVTwB/HuuNJrn3kNQCmNtb0u11vwqmNVVEX9sbTQTw99r6xrm+KJP2hsLatg8/8+klufGIjEFSavPTXTzJ9Ui3veOscAI7cd3rBp3Qn19dwdrjNYMwNA35tdRULZ/S9CZvd62+qq+aIheWthyNSKRTwx7GX39xTcyaR7L+Q6I7OXpobaqiqMhpqYpne+8YdXdRVV/Ev5xzECZffzeystEj2k7LpYJ92Q/j6Jw+sAwrn1Ifj2P1mcsj8qZzUT9XG+poq3nHw3iydPfxSECKyhwL+OJYdlDv7KUecLliWTvdkly7YsL2TudMamD+9kRUnLuanD6zLlE/OH6YJcNZBe/PHMIUEZGrc5E+kMVz7zpzEfw9QE9/MuPJ9/dfaF5Gh0U3bcawz6yGq7gIBGuDJ13ewvTPOrLD3Pqkuxu5w7P2mHd3MDYdq7jOlnp5Eiq0dvcSTKRIp73Mj9u39FPTqrxSyiEws+p88jmX3wvNLJqS9HJYafv9RCwGY09zApnBo5e6eBPtMDeaNnxLeA9jVnaAmLEr2mdP2p2XhNKZNqmVXd4IjFk5j1uQ6/vYnj+acY84UzT0vEgXq4Y9j2Smd7935Uk6PP+1nD64DgintIBgBk66b09WbzKRj0jdCO3oSOUMxj1o8g/33mpypJX7o/Kl9zjFvgAk9RGTiUMAfx9K9+n3DcgLPbWrvs82W9h4aamKZ8fLzpjWweWcX8WQqp1ZNU11WwE8Pxazt+/bnP/m6aEYjM8Nx/CIysZUt4JvZMjN7Muur3cwuKdf5JrL27jhbdvV9wjVdtOz75x0KwOPr99St2dHZy9bdPXTHk5z3tvmZ5fOmNZLyYEjmto7ezPj6dB6+ozeR+UuhoaZvRq82lvtP4ht/eXBZ58gVkdFTzhmvXgQOBTCzGLARuLFc55vI3vWf97FuayfrvnV2zvL0iJl0uuaGxzdmZnM69Gt3AFATs5xeebqezuevewqAbR3Bg1RN4Vj83T1JpmR6+H1H3+QHdxUrE4mO0bppewrwiruvH6XzTSjrtgazSCVTTixr5Myu7jinvmU2k+qqOWTelD6zTEFQGjm74uSkMLCnq1hu3hk+fJV+CrcnkUkV9Te+ftWXT2VSbTU7u+LsrRu2IpExWjn884FrR+lcE9Yb7XvSOu3dcdq7E5nx9YtnNfU7Uic7cOfXpqkKe+zplM7urICfX5o4bWZTHQ21MQV7kYgpe8A3s1rgXcBv+1m/wsxWmdmq1tbWcjdnXEtPVgJ7ZqhK151pqI3R3c/DVw05AT/4efqk4EbrN999MACTwuUdPUnawnr56W1EpDKMRg//LOBxd3+z0Ep3X+nuLe7eMmtW4Ufto+LRddtyyg9v2tGVc7M2e9z9noAfDIlsrImV1MNPD8Pc0dnL1MYa5odTBlbHqqivqaKjN8Etz2ymJmbs1awevEglGY0c/gUonUPrrh7e+4MHOWhuMzd/6gQAjv3WXTnbZAf0dO59nzCtki6ZkC6NkG1SVhonHfxT3jdl01RXzQ2Pb8hMLBIrUPJYRKKrrD18M2sETgNuKOd5JoJtHUGQfXZj37H0adk3ZXd2BaNr0k/INtTGcIeeRIp4MpWzX3pkDuQG+fxROI211TmzSIlIZSlrD9/dO4HiE51WgPbu4jM2Zad02rsT1NdUURfWsk8H8s7eJPkd87lZAT97Vqr8UTiqiSNS2fSk7Shp7yoh4Gf18Nu74jTX76mBnz2bVUfWB8PhC6b2Wyv/Lw+bl/N6VlZ55B+8X9UoRSqNAv4oac+bSaqQdA6/J5Hk909tYnL9nh55Q5in7+pN5Mxx+w9nHtDvk7AXHrso53X2XwKDnaVKRCY+BfxRki5ZDPBf96wpGPTTE5fc/UIrHb1JJmf18NMpna7eFLuzAn51rO9beNKyYLRTVV7uJ3tqwUJzyYpItOl//SjpzZqxas2W3X2emo1VWWZZOqB/572HZNanUzqdvQniWccqNLn4VR98Gynv+4GSHfDT0yGKSOVQwB8libyRNfmljrPH2fckgu/ZKZ30+PqfPbSePzy9uc/ybFVVRhV9Pwiyyxzn9/5FJPrUzRsl+UMpt7QHT7t+9rT9+ffzDw3G2acDfjzYNrsXnu7hZwf7Dx+/L/vv1VRyG+Zn9fBFpPIo4A/B69s6eXrDjkHtE8+bhHxD+CTtyQfM5pxD59KYNRdtTyId8PuWTMj2qbcvHVTp4plNdcU3EpHIUkpnCE64/G6APuWMB5JI7enhpxxaw5IKs5uDINxQW90npVOb1cMvVOisqX5wb19VlTF9Ui0nLp05qP1EJBoU8EdJPOnU11SxYHojPYlkphefzsE31FTtSekkUtTELKf0QaHa9UMpjfD4V04bSvNFJAIU8EfBI2u3sfLeV4GgJ3/bc29y23NBLbn0DFONtdXct6aN+9e00RNP5aRzoP9SxiIipVIOfxT89MF1mZ/r84ZD1oQB/xMnBzNZrVq3nZ5Ess+wyfzx9v/vAy0j31ARiTT18AcpuyZ9666enHIF/anJSr3kj49Pp2WO3W8msyfXccMTG3Df80FQyLsO2YfTlu812KaLSIVTD3+QHsuaSPxDP320pH2yg3f+aJ1szQ01rN/ayWvbOnPKJ4iIjISSAr4FDjazM8zsRDOr2AqY2WUN1rV1lLRPdjome7ROvktOXZr5+e+O33cIrRMR6d+AKR0zWwR8HjgTWAu0AvXAUjPbAfwA+Ll7gef4Iyq7hHGpo2RqY3u227u5od+a+POznoTtb4JxgLl6gEpEhqBYDv9ygqD+SXfP6Zqa2RzgfcAHgavL0rpxqDMn4A8+I3bZXyzn6MXT+fofVvdZd/DcKdTXVNEdTxUsmfD7Tx7PHavf5JMnLxn0eUVEBoxY7v5X7n5XfrAP12129++4+9X97W9mU83sOjN7wcxWm9kxI9DmMZVd9Kxtdw83PL6BZzfu5K4X3mTjji5ufGJDn32yPyTmT2/kwycsLnjsqirjvUfM7/fcB8+bwqWn7Z/zQJaISKmKjtIxsyXAOcBcwIFNwE3u/nIJx/934FZ3P9fMaoHGYjuMd115Rc8u/c1TmZ8Xz5zEq20dnHXQnJweevpD4t2HzS16/Oow/ZNfe0dEZLgG7Cqa2ecI5qNtAJ4Gngl/vj5cN9C+zcCJwI8B3L3X3QdXgGYccHeyb1G0h3Xtp0+q7bPt+m2dAOzqzv1Q6OpNcuA+zXz3vEOLni89omeg0TwiIkNRrIe/AjjI3XNmvjaz/wM8C3xngH0XE9zk/YmZHQI8Blzs7qUNbRkHLr/1Ba685xVOXjaLn1x4JABXP7CuT9mDtPSkJu3d8Zzx+Z29yQFvwmZbNGMSAHs1q9CZiIysYgE/BcwG8hPTs8N1xY59OPApd3/YzP4d+ALwleyNzGwFwQcLCxYsKLHZoyNdDuHuF1szyybVxpg/vZG2XT397pc/f21XPJlT2x7gns+dVHCI5gVHzmfOlPrMrFUiIiOl2N2/S4E/m9nvzezK8Otm4J5w3UA2ABvc/eHw9XUEHwA53H2lu7e4e8usWeMryGX34p/btJObn97E9s44Ry6aPuAEIv9y8/P0JJLc+fybXPqbJ3ny9R19eviLZk5iyezJffY1M04+YPagyh6LiJRiwB6+u99iZrcDRxPctDWCQP6Quw/4KKi7v2Fmr5vZMnd/ETgFeH6E2j0qsgP+9Y9t5Kr712aWp+vZp82aXEdr2Ot//LUd3Pj4Rr5wwzOZ9ZpDVkTGWtEoFAb2+/KXm1m9u3cX2f1TwC/CETqvAhcOqZVjJJbVy07XqIfCN1SXz2nmz7v2pH4a63J/tYXG1YuIjKbhdDtfAgZMurv7k8CELeuYzBqdk65fD4WHTB4wZzJ/fmlPwG+qyw3wA9RCExEZFcVKK3y6v1VA6ZOpTlCJVOGAX+hm69ypueUO8v8KqB7CU7kiIiOplNIK3wWSBdZFPoIlsnry2WWRC6V0ZuXNF5voE/B1E1ZExlaxgP84cJ27P56/wsz+tiwtGkeyOvg55YovPmUp1z2WO1J131mTOH7JTO5b0wZAZ94TuTUqhyAiY6xYFPow8Ho/644e4baMa9s7g7H1X3nncuZP71shYnJ9DT//8FGZ16vWbc9ZX6MevoiMsWLF055399Z+1m0sT5PGj9lZT8vu6AweNk7PLZs/TD5/SsJfr8r9nFy+T3MZWigiUjrlGQZwyPypxKqMUw6YTdvuYIx9c0OQBVv1j6fyh08fn9k2HfB//8nj+xzn7LfO4cyD5oxCi0VE+qengQaQTDnL5zRTV1OVuVHbXF8DwIymOmZk3aitqw56/gsKpHuWzo78gCYRmQCG3MM3s8NGsiHjUTyZojpmmaJoEMw7W0hNWNa4OtY3V58/YkdEZCwMqodvZvsD5wN/DXQDxev9TmDJlPcZTplfBC0tXfumpsATVtnj+UVExkopE6DMIwjyFwAxYD5wlLuvKXPbxlwi6X0emJqS18N/26JpPJo1IqemYA9fk5mIyNgrNgHKvcCdwGTg/e5+KNBeCcEegidqq2NGusLCV965nJl5D1hd86GjWPXlUzOvs6tcrjhxcXgc9fBFZOwV6+HvAhYCUwiCPgTTHFaERJjSqQuHYs6b1tBnm/qaWL+F0dLbFyrFICIy2oqVRz7bzKYD5wLfNrMFwDQzO7zQ07dR09mbZP60ar7yzrcwrbGGk5fNLmm/fzjzAI5aPJ0XNu8CdNNWRMaHUsojbwNWAivNbC5wHvADM9vL3ReWu4Fjqb0rzuT6amZPrudr5xxU8n4fP2k/ANa8uRvQ/LQiMj4Malimu2909++6+5HAyWVq07jR3h3vdxhmKQ6cGzxde8LSmSPVJBGRIStWHvmGIvu/ewTbMq70JJJ0x1M09zMMsxQH7jOFp/7pdKY0Dv1DQ0RkpBSLZicB64BrgccI6uCXzMzWEdz4TQIJd58wk6Hs6g6qXQ6nhw8o2IvIuFEs4O8FnEEwBv8C4Cbg2nCO2lKd7O5tQ2zfmGnvCqpjpkspiIhMdMWqZcbd/WZ3fx9wHPAacJ+ZfWJUWjeG2jM9fJUbEpFoKOVJ2xrgLIIe/v7AlcDvSzy+A7ebmQM/dPeVBY6/AlgBsGDBgFPkjir18EUkaordtP0xcDhwG/DtcFLywTjO3TeZ2WzgDjN7wd3vzd4g/BBYCdDS0jJuxi+2d4cBf5g5fBGR8aLYsMwLgX2BjwJ3mdm28Gu7mW0rdnB33xR+3wLcCBw53AaPlvauIKXTX7E0EZGJplg0G3L31swmAVXuviv8+XTga0M93mjrCictb6xRwBeRaCgl4MfdPQlgZksI8vnr3L1YHn8v4MawmFg18Et3v3WY7R01PYkg4NfVaFIwEYmGYgH/NuAjwEtmth/wCPBr4D1mdoy7f6m/Hd39VeCQEWvpKOuJBwXPagvUtxcRmYiKRbPp7v5S+PMHgV+5+8cJxub/RVlbNsZ6EilqY1VUVQ3qWTMRkXGrWMDPHjXzduAOAHfvASJd87cnkcxMTC4iEgXFUjrPmdm3gI0EY/BvBzCzKQyyzMJE05NIKX8vIpFSLKJ9GNgNHACc6e4d4fKDgO+Ws2FjrSeeoq668MQmIiITUbEJUDqArxdYfj9wf7kaNR4opSMiUVNsTtvfmdlZZtbng8HMFprZP5nZ35WveWOnJ5GiVgFfRCKkWA7/IuCzwBVm9ibQCtQDiwkKqV3h7teXt4ljozuezMxlKyISBcVSOhuBS4FLw4eu5gBdwIvuvmsU2jdmOnoSTK7TU7YiEh0lRzR3XwOsKWNbxpX27gR7T6kf62aIiIwYJan70d4VV2lkEYkUBfx+DHcCcxGR8UYBv4CRmMBcRGS8KTYByhPkllfI4e6Hj3iLxoGRmsBcRGQ8KdaFPTf8/jEgBlwTvn4fENlROpreUESiqNiwzFcAzOxYdz8ua9UTZnY/8NVyNm6saAJzEYmiUnP4TWZ2dPqFmR0FNJWyo5nFzOwJM7t5KA0cC7u61cMXkegptQv7IeBqM6snyOl3A6WWVLgYWA00D755Y2PPfLYK+CISHUUDvpnFgIXufpCZzQBw962lHNzM5gFnA98geGJ3QuhNhtMbqpaOiERI0YgWzmd7Sfjz1lKDfej7wOcZh5OlbNjeyXfveAn3voOQ4slgWXUs0iX/RaTClNqFvc3MLjGzOWbWnP4aaAczeyewxd0fK7LdCjNbZWarWltbS233sH3kZ4/xH396mfVbO/usS4QBv0bz2YpIhJSaw/9o+P2zWcscWDDAPscB7zKzdxBU2Gw2s5+7+/uzN3L3lcBKgJaWln7H/I+0bR09QOFefDwZ/EFSrflsRSRCSgr47j5/sAd29y8CXwQws5OAz+UH+7HU2Rvk6VMFkk3pgF+jHL6IREjJA83N7ABgOUFvHQB3/2U5GjUausKAHy8Q8ROpMKVTpYAvItFRUsA3sy8DpxPMbXsbcAZwH1BSwHf3e4B7htTCEfaj/3mVqY21maB+/5o2bnvuDT5x0hIgKJr2rT++AOimrYhES6k9/POAQ4HH3f1vzGwO8MPyNat8vv6H1Tmv/+m/nwPIBPwf3ftqZp1y+CISJaXmLLrC4ZkJM5sMvEEwzeGEUmgIZh9mWT8q4ItIdJTaw3/CzKYCVwGrgHbg8bK1qkx6EsUfB1CvXkSiqtRROulhmVeY2W1As7tPuICfroI5kJgCvohEVKk3ba8C/gf4n3Bu2wmpvbv/gO/umJl6+CISWaXm8H8F7Av8PzNbY2a/NrOLytiuskiPvS8kHLSjHr6IRFapKZ3bzexO4HDgFOAi4AjgijK2bcQNlMNPpFLEqmLq4YtIZJWa0rkNmAI8SpDaOdrdN5WzYeXQE+8/4CfDLn5M9XNEJKJKjW4vAQlgKbA/sMTM6srWqjLpSfSf0kk/iBXTUEwRiahSUzqfAjCzKcAHCOa2nQ00lK9pIy//oatsybBCZrKUsfoiIhNQqSmdjwEnAG8DNgM/I0jtTChr2zoyPy+f08zzm9szr9M9/GRYOO2aDx05uo0TESmzUh+8mgZcCTzq7r1lbM+o+eCxC/mH65/JvE7n8NOB/5D5U8ekXSIi5VJSDt/dvwkkgfMBzGy6mQ1UC3/cS+bdv02EVTPTgV+jdUQkagZTLfM4YD+CdE4DQaXM48vXtPLKv4Gb38PXeHwRiZpSR+mcC7wD6ABw943AgFMcjnf5PfhMDj/Tw9fwTBGJllJz+D3u7mbmAGbWWMY2lVVTXTUfP2k/znvbAuZNa+TPL7Vy9QPr+vTw1cEXkagptRt7g5ldAUwxswuB24GfDLSDmdWb2SNm9pSZPWdmXx1uY4cjHdA/csJiLjp5CbXVVZx8wGyOXjwD2DNxeTKVorrKVBpZRCKn1HH43zazs4Be4BDgG+7+xyK79QBvd/fdZlYD3Gdmf3T3h4bX5KHpDcsq1NXkfsalUzvZPXzl70Ukikqe0zYM8H8EsMB57v7rAbZ3YHf4sib8GrOnmtI3aesWkBzKAAAPiElEQVTyJiaPhdMYZkbpJF0jdEQkkgYM+GbWBHwcmAvcBNwNfBT4PLAa6Dfgh/vHgMeAJcAV7v7wCLR5SNLz1NbXxHKWp4P7J3/5BMv2nsz9a9qoUjpHRCKoWA//GoKROQ8SVMj8e2Ay8FfuvqrYwcNpEQ8NZ8u60cwOcvdns7cxsxXACoAFC8o3tH/91k4ATl++V87yxtrgV7BxRxcbd3TRXF/NXs31ZWuHiMhYKRbwl7j7wQBm9gOgDVjo7u0D75bL3XeY2T3AmcCzeetWAisBWlpaypbySaRSHLN4BjOacmu+TWnI/RV09CY548C9y9UMEZExU2yUTmaKqLC3vrbUYG9ms8KePWbWAJwKvDDUhg5XPOnUVPe93Ob6mpzXyZTT3FDyrQ0RkQmjWGQ7xMy2hT8bMDl8bQT3ZacPsO8c4KdhHr8K+I273zzsFg9RPJmipsDN2OaGmj7LJtf3XSYiMtEVC/i1Qz2wuz8NHDbU/UdaIulUx/oG/LrqKmpjVfRmFdeZXK8evohEz4CRLUzjREI8laKmwGxWZkZ9TW7Ar6+O9dlORGSiq5iCMfFk4YAPUJc/VLPAXwIiIhNdxQT8xAAPVOU/jFWreW1FJIIqIrK5O7u6EwVH6UDfgF+tgC8iEVTsSdvtFC6HUMoonXHjspueY3dPgp2d8YLr66qV0hGR6Cs2HGXmqLSizH67agMAb7Z3F1yfX1BNKR0RiaJBjdIxs+lAdt2BTeVo1EibVFdNVzxJZ2/hQUd9Uzrq4YtI9JTUlTWzs83sJWAD8HD4/a5yNmwkNdUFKZvueH8BP7+gmnr4IhI9pUa2bxDMafuiu88HzgDuKVejRlpDWCCtvx5+TV6PXikdEYmiUiNbwt1bgSozM3e/Azi8jO0aUeke/sHzphRcn18OWSkdEYmiUmsI7DSzScB9wM/MbAuQKrLPuFFfE6MmZnz/vENL2l4BX0SiqNQe/v8GuoFLCFI5G4F3lqlNIy6Zcg6ZN5VJdYU/3/LnO1FKR0SiqNTI9kV3T7p73N1/7O7fBS4tZ8NGUjLlVA0wbaHnPWmgB69EJIpKjWxnFlh29kg2pJxS7sQGMW2h5rQVkSgq9qTtR4GPAfub2eNZqyYDRac4HC+SKaeuuvQg3l+RNRGRiazYTdvfAH8Cvgl8IWv5LnffUrZWjbBkyomV0Gu//D1vpWXRtJK2FRGZaAbsyrr7dndf4+7vBRqA08KvWcUObGbzzexuM1ttZs+Z2cUj0+TBS3ppAb+pvprFs5pGoUUiIqOv1CdtLyLo7S8Iv35jZp8oslsC+Ky7vwU4GrjIzJYPp7FDlUz1HWtfiDr2IhJlpY7D/yhwpLvvBjCzfwUeAK7sbwd33wxsDn/eZWargbnA88Nq8SB19SZ5s72bBdMbRvO0IiLjTql3Jw3Iri0cD5eVtrPZIoL5bR8usG6Fma0ys1Wtra2lHrJkf/2jh9jW0au8vIhUvGKjdKrdPQFcAzxkZteHq/4S+GkpJzCzJuB64BJ3b89f7+4rgZUALS0thWrvD8sTr+0AIFZSQTR9KIhIdBVL6TwCHO7ul5vZ3cAJBFHxY+7+aLGDm1kNQbD/hbvfMOzWDkNp1RJG/PNGRGTcKBbwM2EyDPBFg3xmRzMDfgysDp/MHVNJxXIRqXDFAv4sM+u3hEKRQH4c8DfAM2b2ZLjsS+5+yyDbOCivb+ukub6GKY01OcsTyVJqvSmlIyLRVSzgx4AmhhAJ3f2+oew3XCdcfjczm2pZ9eXTeHTdtszy+ABd/JOWzeb2599kv1mTRqOJIiJjoljA3+zuXxuVloygtt29AGza0ZVZlkz138O/4Mj5nHnQ3kyfVFv2tomIjJViQ1cmdI4je+rCRKr/Hr6ZKdiLSOQVC/injEoryqQ2q2BavKQcvohIdBWrpbNtoPXjTTKvF9+b2PM6oWE6IlLhIlUHuDeR24vvSeyZtPzoxTNGuzkiIuNKqbV0JoTsAB+8Dj4AfnfRcRzSzwTmIiKVIlI9/J6sHr67Z17PndqADWLGKxGRKIpWwI/vCfjxpGdSPHU1kbpMEZEhiVQkvOGJDZmfexJJ7nj+DQDqqiN1mSIiQxKZSLh5Zxffv/PlzOtnN7bz0KvBIKNazVErIhKdgL+tozfndevunszPyt+LiEQo4Ld3JXJe7+qO97OliEhlik7Azwvwbbt6+9lSRKQyRSfgd+UG/Nbd3WPUEhGR8SkyAX93T25KJ93DP3LR9LFojojIuBOZgN+TV1Zha0dw0/bHf9syFs0RERl3yhbwzewqM9tiZs+W6xzZsh+6Atgajtqp0ZBMERGgvD38q4Ezy3j8HPl1dNLDNKurNCRTRATKGPDd/V5g1Mor56d0dnQGN3FjCvgiIsA4yOGb2QozW2Vmq1pbW4d8nHQPf2pjDU11e4qA6qErEZHAmAd8d1/p7i3u3jJr1qwhH6cnnmLOlHqe/KfT+cH7jxjBFoqIRMOYB/yR0pNIZYqkNTdEqsy/iMiIiFDAT2YmLW+urxnj1oiIjD/lHJZ5LfAgsMzMNpjZh8p1rp1dcW577k1qwknLmxsU8EVE8pUt9+HuF5Tr2Pm+ectqICiJDDC5XikdEZF8kUjpdMVzx+DrYSsRkb4iERk1o5WISHGRiJTpm7V6xkpEpH+RCPjpFE468IuISF+RuLvZWBsE+uzKmH9/xjLiyVR/u4iIVJxIBPx4MkV9TRXH7jczs+yik5eMYYtERMafSKR0gqdslc4RERlIRAJ+UiN1RESKiESU7ImnqKuJxKWIiJRNJKKkUjoiIsVFJOArpSMiUkwkomR2aWQRESksElGyJ66UjohIMdEI+ImkbtqKiBQRiSiplI6ISHFljZJmdqaZvWhma8zsC+U6j0bpiIgUV84Zr2LAFcBZwHLgAjNbXo5z9cQ1SkdEpJhyRskjgTXu/qq79wK/As4px4l6EnrwSkSkmHJGybnA61mvN4TLRpxSOiIixZUz4BeajsT7bGS2wsxWmdmq1tbWIZ3o1LfM5sB9moe0r4hIpShneeQNwPys1/OATfkbuftKYCVAS0tLnw+EUnz//MOGspuISEUpZw//UWCpme1rZrXA+cBNZTyfiIgMoGw9fHdPmNkngduAGHCVuz9XrvOJiMjAyjrjlbvfAtxSznOIiEhpNJZRRKRCKOCLiFQIBXwRkQqhgC8iUiEU8EVEKoS5D+lZp7Iws1Zg/RB3nwm0jWBzJoJKvGaozOuuxGsGXXcpFrr7rFI2HFcBfzjMbJW7t4x1O0ZTJV4zVOZ1V+I1g657pI+rlI6ISIVQwBcRqRBRCvgrx7oBY6ASrxkq87or8ZpB1z2iIpPDFxGRgUWphy8iIgOY8AF/tCZKHwtmNt/M7jaz1Wb2nJldHC6fbmZ3mNnL4fdp4XIzs/8IfxdPm9nhY3sFQ2dmMTN7wsxuDl/va2YPh9f867DkNmZWF75eE65fNJbtHg4zm2pm15nZC+F7fkzU32sz+0z4b/tZM7vWzOqj+F6b2VVmtsXMns1aNuj31sw+GG7/spl9cLDtmNABfzQnSh8jCeCz7v4W4GjgovD6vgD8yd2XAn8KX0Pwe1gafq0A/mv0mzxiLgZWZ73+NvC98Jq3Ax8Kl38I2O7uS4DvhdtNVP8O3OruBwCHEFx/ZN9rM5sLfBpocfeDCMqon0803+urgTPzlg3qvTWz6cBlwFEEc4Zflv6QKJm7T9gv4BjgtqzXXwS+ONbtKuP1/jdwGvAiMCdcNgd4Mfz5h8AFWdtntptIXwSzo/0JeDtwM8F0mW1Adf77TjDfwjHhz9XhdjbW1zCEa24G1ua3PcrvNXvmvZ4evnc3A2dE9b0GFgHPDvW9BS4Afpi1PGe7Ur4mdA+fUZwofayFf74eBjwM7OXumwHC77PDzaLy+/g+8HkgFb6eAexw90T4Ovu6Mtccrt8Zbj/RLAZagZ+EqawfmdkkIvxeu/tG4DvAa8BmgvfuMaL/XqcN9r0d9ns+0QN+SROlT3Rm1gRcD1zi7u0DbVpg2YT6fZjZO4Et7v5Y9uICm3oJ6yaSauBw4L/c/TCggz1/4hcy4a87TEecA+wL7ANMIkhn5Ivae11Mf9c57Ouf6AG/pInSJzIzqyEI9r9w9xvCxW+a2Zxw/RxgS7g8Cr+P44B3mdk64FcEaZ3vA1PNLD1DW/Z1Za45XD8F2DaaDR4hG4AN7v5w+Po6gg+AKL/XpwJr3b3V3ePADcCxRP+9Thvsezvs93yiB/xIT5RuZgb8GFjt7t/NWnUTkL5D/0GC3H56+QfCu/xHAzvTfzJOFO7+RXef5+6LCN7Pu9z9fcDdwLnhZvnXnP5dnBtuP+F6fe7+BvC6mS0LF50CPE+E32uCVM7RZtYY/ltPX3Ok3+ssg31vbwNON7Np4V9Hp4fLSjfWNzJG4EbIO4CXgFeAfxzr9ozwtR1P8Cfb08CT4dc7CPKWfwJeDr9PD7c3glFLrwDPEIx+GPPrGMb1nwTcHP68GHgEWAP8FqgLl9eHr9eE6xePdbuHcb2HAqvC9/t3wLSov9fAV4EXgGeBa4C6KL7XwLUE9yniBD31Dw3lvQX+Lrz+NcCFg22HnrQVEakQEz2lIyIiJVLAFxGpEAr4IiIVQgFfRKRCKOCLiFQIBXyJLDNLmtmTWV8DVlM1s4+Z2QdG4LzrzGzmcI8jMtI0LFMiy8x2u3vTGJx3HcHY6bbRPrfIQNTDl4oT9sC/bWaPhF9LwuX/bGafC3/+tJk9H9Yj/1W4bLqZ/S5c9pCZvTVcPsPMbg+Lnv2QrJonZvb+8BxPmtkPw5LeImNCAV+irCEvpXNe1rp2dz8S+L8EtXryfQE4zN3fCnwsXPZV4Ilw2ZeAn4XLLwPu86Do2U3AAgAzewtwHnCcux8KJIH3jewlipSuuvgmIhNWVxhoC7k26/v3Cqx/GviFmf2OoMwBBKUu3gPg7neFPfspwInAu8PlfzCz7eH2pwBHAI8GpWJoYE+BLJFRp4Avlcr7+TntbIJA/i7gK2Z2IAOXpy10DAN+6u5fHE5DRUaKUjpSqc7L+v5g9gozqwLmu/vdBBOxTAWagHsJUzJmdhLQ5sH8BNnLzyIoegZBQaxzzWx2uG66mS0s4zWJDEg9fImyBjN7Muv1re6eHppZZ2YPE3R6LsjbLwb8PEzXGMH8qjvM7J8JZqR6GuhkT2nbrwLXmtnjwJ8Jyv7i7s+b2ZeB28MPkThwEbB+pC9UpBQalikVR8MmpVIppSMiUiHUwxcRqRDq4YuIVAgFfBGRCqGALyJSIRTwRUQqhAK+iEiFUMAXEakQ/x8LcV7S/ckriwAAAABJRU5ErkJggg==\n",
      "text/plain": [
       "<matplotlib.figure.Figure at 0x7f4195bdc3c8>"
      ]
     },
     "metadata": {
      "needs_background": "light"
     },
     "output_type": "display_data"
    }
   ],
   "source": [
    "window = 10\n",
    "plt.xlabel('Episode')\n",
    "plt.ylabel('Total Reward (SMA 10)')\n",
    "plt.plot([np.mean(total_rewards[tr:tr+window]) for tr in range(window, len(total_rewards))])"
   ]
  },
  {
   "cell_type": "code",
   "execution_count": 156,
   "metadata": {
    "colab": {},
    "colab_type": "code",
    "id": "M6wai0MeiGVG"
   },
   "outputs": [
    {
     "data": {
      "image/png": "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\n",
      "text/plain": [
       "<matplotlib.figure.Figure at 0x7f4194ff2358>"
      ]
     },
     "metadata": {
      "needs_background": "light"
     },
     "output_type": "display_data"
    },
    {
     "name": "stdout",
     "output_type": "stream",
     "text": [
      "STEP: 1\n"
     ]
    },
    {
     "data": {
      "image/png": "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\n",
      "text/plain": [
       "<matplotlib.figure.Figure at 0x7f4195233a58>"
      ]
     },
     "metadata": {
      "needs_background": "light"
     },
     "output_type": "display_data"
    },
    {
     "name": "stdout",
     "output_type": "stream",
     "text": [
      "STEP: 2\n"
     ]
    },
    {
     "data": {
      "image/png": "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\n",
      "text/plain": [
       "<matplotlib.figure.Figure at 0x7f4195014518>"
      ]
     },
     "metadata": {
      "needs_background": "light"
     },
     "output_type": "display_data"
    },
    {
     "name": "stdout",
     "output_type": "stream",
     "text": [
      "STEP: 3\n"
     ]
    },
    {
     "data": {
      "image/png": "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\n",
      "text/plain": [
       "<matplotlib.figure.Figure at 0x7f41955367b8>"
      ]
     },
     "metadata": {
      "needs_background": "light"
     },
     "output_type": "display_data"
    },
    {
     "name": "stdout",
     "output_type": "stream",
     "text": [
      "STEP: 4\n"
     ]
    },
    {
     "data": {
      "image/png": "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\n",
      "text/plain": [
       "<matplotlib.figure.Figure at 0x7f41953c7fd0>"
      ]
     },
     "metadata": {
      "needs_background": "light"
     },
     "output_type": "display_data"
    },
    {
     "name": "stdout",
     "output_type": "stream",
     "text": [
      "STEP: 5\n"
     ]
    },
    {
     "data": {
      "image/png": "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\n",
      "text/plain": [
       "<matplotlib.figure.Figure at 0x7f419510d5f8>"
      ]
     },
     "metadata": {
      "needs_background": "light"
     },
     "output_type": "display_data"
    },
    {
     "name": "stdout",
     "output_type": "stream",
     "text": [
      "STEP: 6\n"
     ]
    },
    {
     "data": {
      "image/png": "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\n",
      "text/plain": [
       "<matplotlib.figure.Figure at 0x7f41957686a0>"
      ]
     },
     "metadata": {
      "needs_background": "light"
     },
     "output_type": "display_data"
    },
    {
     "name": "stdout",
     "output_type": "stream",
     "text": [
      "STEP: 7\n"
     ]
    },
    {
     "data": {
      "image/png": "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\n",
      "text/plain": [
       "<matplotlib.figure.Figure at 0x7f4197ca7da0>"
      ]
     },
     "metadata": {
      "needs_background": "light"
     },
     "output_type": "display_data"
    },
    {
     "name": "stdout",
     "output_type": "stream",
     "text": [
      "STEP: 8\n"
     ]
    },
    {
     "data": {
      "image/png": "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\n",
      "text/plain": [
       "<matplotlib.figure.Figure at 0x7f41957ff4e0>"
      ]
     },
     "metadata": {
      "needs_background": "light"
     },
     "output_type": "display_data"
    }
   ],
   "source": [
    "env = GridEnvironment()\n",
    "\n",
    "obs = env.reset()\n",
    "done = False\n",
    "agent.epsilon = 0\n",
    "env.render()\n",
    "plt.show()\n",
    "step = 0\n",
    "\n",
    "while not done:\n",
    "    state = obs\n",
    "    step += 1\n",
    "    print(\"STEP: \"+str(step))\n",
    "    \n",
    "    state = state.astype(int)\n",
    "    action = agent.step(obs)\n",
    "    obs, reward, done, info = env.step(action)\n",
    "    agent.update(state, action, reward, obs)# train code\n",
    " \n",
    "    env.render()\n",
    "    plt.show()"
   ]
  },
  {
   "cell_type": "code",
   "execution_count": null,
   "metadata": {},
   "outputs": [],
   "source": []
  },
  {
   "cell_type": "code",
   "execution_count": null,
   "metadata": {},
   "outputs": [],
   "source": []
  },
  {
   "cell_type": "code",
   "execution_count": null,
   "metadata": {},
   "outputs": [],
   "source": []
  }
 ],
 "metadata": {
  "colab": {
   "collapsed_sections": [],
   "name": "Template of Tabular Q-Learning",
   "provenance": []
  },
  "kernelspec": {
   "display_name": "Python 3",
   "language": "python",
   "name": "python3"
  },
  "language_info": {
   "codemirror_mode": {
    "name": "ipython",
    "version": 3
   },
   "file_extension": ".py",
   "mimetype": "text/x-python",
   "name": "python",
   "nbconvert_exporter": "python",
   "pygments_lexer": "ipython3",
   "version": "3.6.8"
  }
 },
 "nbformat": 4,
 "nbformat_minor": 1
}
